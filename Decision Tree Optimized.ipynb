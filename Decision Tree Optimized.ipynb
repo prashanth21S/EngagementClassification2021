{
 "cells": [
  {
   "cell_type": "code",
   "execution_count": 1,
   "id": "e95d88f8",
   "metadata": {},
   "outputs": [],
   "source": [
    "import pandas as pd\n",
    "import numpy as np\n",
    "import matplotlib.pyplot as plt\n",
    "import joblib\n",
    "from sklearn.model_selection import learning_curve\n",
    "from sklearn.model_selection import ShuffleSplit\n",
    "from sklearn import tree\n",
    "from sklearn import metrics\n",
    "import os\n",
    "from sklearn.model_selection import cross_val_score\n",
    "from sklearn.metrics import classification_report"
   ]
  },
  {
   "cell_type": "markdown",
   "id": "f190efb5",
   "metadata": {},
   "source": [
    "### Reading Training data"
   ]
  },
  {
   "cell_type": "code",
   "execution_count": 2,
   "id": "46a2b3db",
   "metadata": {},
   "outputs": [],
   "source": [
    "df1=pd.read_csv(\"./processed/training/engaged.csv\")\n",
    "df2=pd.read_csv(\"./processed/training/notEngaged.csv\")\n",
    "dff=pd.read_csv(\"./TopFeatures.csv\")"
   ]
  },
  {
   "cell_type": "code",
   "execution_count": 3,
   "id": "fb940e24",
   "metadata": {},
   "outputs": [],
   "source": [
    "dft=pd.concat([df1,df2])"
   ]
  },
  {
   "cell_type": "code",
   "execution_count": 4,
   "id": "4b57ec1d",
   "metadata": {},
   "outputs": [],
   "source": [
    "feat=dff.to_numpy()\n",
    "feat=feat.reshape(-1)"
   ]
  },
  {
   "cell_type": "code",
   "execution_count": 5,
   "id": "4bb090b7",
   "metadata": {},
   "outputs": [
    {
     "name": "stdout",
     "output_type": "stream",
     "text": [
      "[' AU12_c' ' AU04_c' ' AU12_r' ' AU04_r' ' AU05_c' ' AU14_c' ' AU06_c'\n",
      " ' AU06_r' ' AU14_r' ' AU07_r' ' p_8' ' AU10_c' ' p_2' ' AU10_r' ' p_0'\n",
      " ' p_23' ' p_7' ' p_6' ' p_10' ' AU01_r' ' AU25_r' ' p_24' ' p_12' ' p_11'\n",
      " ' AU17_r' ' AU09_r' ' AU26_r' ' p_9' ' AU45_r' ' p_20' ' AU05_r'\n",
      " ' AU23_r' ' p_13' ' p_19' ' p_33' ' gaze_angle_y' ' p_5' ' AU02_r'\n",
      " ' p_26' ' p_18' ' p_16' ' gaze_1_y' ' p_32' ' AU07_c' ' AU15_c' ' AU15_r'\n",
      " ' p_30' ' p_31' ' AU20_r' ' p_4']\n"
     ]
    }
   ],
   "source": [
    "print(feat)"
   ]
  },
  {
   "cell_type": "code",
   "execution_count": 6,
   "id": "e72c584b",
   "metadata": {},
   "outputs": [],
   "source": [
    "y_train=dft[\"Result\"]\n",
    "x_train=dft.drop(\"Result\",axis=1)\n",
    "x_train=x_train[feat]"
   ]
  },
  {
   "cell_type": "code",
   "execution_count": null,
   "id": "67de35fe",
   "metadata": {},
   "outputs": [],
   "source": []
  },
  {
   "cell_type": "code",
   "execution_count": 7,
   "id": "cae21658",
   "metadata": {},
   "outputs": [],
   "source": [
    "def plot_learning_curve(estimator, title, X, y, axes=None, ylim=None, cv=None,\n",
    "                        n_jobs=None, train_sizes=np.linspace(.1, 1.0, 5)):\n",
    "    if axes is None:\n",
    "        _, axes = plt.subplots(1, 3, figsize=(20, 5))\n",
    "\n",
    "    axes[0].set_title(title)\n",
    "    if ylim is not None:\n",
    "        axes[0].set_ylim(*ylim)\n",
    "    axes[0].set_xlabel(\"Training examples\")\n",
    "    axes[0].set_ylabel(\"Score\")\n",
    "\n",
    "    train_sizes, train_scores, test_scores, fit_times, _ = \\\n",
    "        learning_curve(estimator, X, y, cv=cv, n_jobs=n_jobs,\n",
    "                       train_sizes=train_sizes,\n",
    "                       return_times=True)\n",
    "    train_scores_mean = np.mean(train_scores, axis=1)\n",
    "    train_scores_std = np.std(train_scores, axis=1)\n",
    "    test_scores_mean = np.mean(test_scores, axis=1)\n",
    "    test_scores_std = np.std(test_scores, axis=1)\n",
    "    fit_times_mean = np.mean(fit_times, axis=1)\n",
    "    fit_times_std = np.std(fit_times, axis=1)\n",
    "\n",
    "    # Plot learning curve\n",
    "    axes[0].grid()\n",
    "    axes[0].fill_between(train_sizes, train_scores_mean - train_scores_std,\n",
    "                         train_scores_mean + train_scores_std, alpha=0.1,\n",
    "                         color=\"r\")\n",
    "    axes[0].fill_between(train_sizes, test_scores_mean - test_scores_std,\n",
    "                         test_scores_mean + test_scores_std, alpha=0.1,\n",
    "                         color=\"g\")\n",
    "    axes[0].plot(train_sizes, train_scores_mean, 'o-', color=\"r\",\n",
    "                 label=\"Training score\")\n",
    "    axes[0].plot(train_sizes, test_scores_mean, 'o-', color=\"g\",\n",
    "                 label=\"Cross-validation score\")\n",
    "    axes[0].legend(loc=\"best\")\n",
    "\n",
    "    # Plot n_samples vs fit_times\n",
    "    axes[1].grid()\n",
    "    axes[1].plot(train_sizes, fit_times_mean, 'o-')\n",
    "    axes[1].fill_between(train_sizes, fit_times_mean - fit_times_std,\n",
    "                         fit_times_mean + fit_times_std, alpha=0.1)\n",
    "    axes[1].set_xlabel(\"Training examples\")\n",
    "    axes[1].set_ylabel(\"fit_times\")\n",
    "    axes[1].set_title(\"Scalability of the model\")\n",
    "\n",
    "    # Plot fit_time vs score\n",
    "    axes[2].grid()\n",
    "    axes[2].plot(fit_times_mean, test_scores_mean, 'o-')\n",
    "    axes[2].fill_between(fit_times_mean, test_scores_mean - test_scores_std,\n",
    "                         test_scores_mean + test_scores_std, alpha=0.1)\n",
    "    axes[2].set_xlabel(\"fit_times\")\n",
    "    axes[2].set_ylabel(\"Score\")\n",
    "    axes[2].set_title(\"Performance of the model\")\n",
    "\n",
    "    return plt\n",
    "\n"
   ]
  },
  {
   "cell_type": "code",
   "execution_count": null,
   "id": "339e6a5a",
   "metadata": {},
   "outputs": [],
   "source": []
  },
  {
   "cell_type": "markdown",
   "id": "9cd94feb",
   "metadata": {},
   "source": [
    "### Initialize model"
   ]
  },
  {
   "cell_type": "code",
   "execution_count": 8,
   "id": "9784556a",
   "metadata": {},
   "outputs": [],
   "source": [
    "model = tree.DecisionTreeClassifier()"
   ]
  },
  {
   "cell_type": "code",
   "execution_count": 9,
   "id": "2e04748b",
   "metadata": {
    "scrolled": false
   },
   "outputs": [
    {
     "data": {
      "image/png": "[encoded data removed]",
      "text/plain": [
       "<Figure size 1440x360 with 3 Axes>"
      ]
     },
     "metadata": {
      "needs_background": "light"
     },
     "output_type": "display_data"
    }
   ],
   "source": [
    "#fig, axes = plt.subplots(3, 1, figsize=(10, 15))\n",
    "\n",
    "\n",
    "# Cross validation with 100 iterations to get smoother mean test and train\n",
    "# score curves, each time with 20% data randomly selected as a validation set.\n",
    "cv = ShuffleSplit(n_splits=100, test_size=0.2, random_state=0)\n",
    "\n",
    "\n",
    "title = \"Learning Curve for Decision Tree for depth 8 using gini\"\n",
    "estimator = model\n",
    "plot_learning_curve(estimator, title, x_train, y_train,\n",
    "                    cv=cv, n_jobs=4)\n",
    "plt.show()\n",
    "plt.close()\n",
    "    "
   ]
  },
  {
   "cell_type": "markdown",
   "id": "41bf76d6",
   "metadata": {},
   "source": [
    "### Score of the model with 100 folds"
   ]
  },
  {
   "cell_type": "code",
   "execution_count": 10,
   "id": "0e153897",
   "metadata": {},
   "outputs": [],
   "source": [
    "avg_score=cross_val_score(model,x_train, y_train, cv=100)"
   ]
  },
  {
   "cell_type": "code",
   "execution_count": 11,
   "id": "2c3f57d7",
   "metadata": {},
   "outputs": [
    {
     "name": "stdout",
     "output_type": "stream",
     "text": [
      "[0.71040724 0.70588235 0.74208145 0.70588235 0.71040724 0.64705882\n",
      " 0.6199095  0.69683258 0.63348416 0.66515837 0.6561086  0.760181\n",
      " 0.72850679 0.67873303 0.65158371 0.63348416 0.66063348 0.7239819\n",
      " 0.66515837 0.66063348 0.65158371 0.69683258 0.62895928 0.56108597\n",
      " 0.63348416 0.52036199 0.4841629  0.64253394 0.62443439 0.60180995\n",
      " 0.59728507 0.53846154 0.53393665 0.54298643 0.52941176 0.54751131\n",
      " 0.53393665 0.57466063 0.61538462 0.53846154 0.52941176 0.53393665\n",
      " 0.44343891 0.59276018 0.54298643 0.47963801 0.52036199 0.5158371\n",
      " 0.58371041 0.57466063 0.57466063 0.5158371  0.58823529 0.57013575\n",
      " 0.57466063 0.67727273 0.68636364 0.71363636 0.68636364 0.73181818\n",
      " 0.69545455 0.75       0.75909091 0.76818182 0.67727273 0.74090909\n",
      " 0.73636364 0.74090909 0.70454545 0.66818182 0.75454545 0.80909091\n",
      " 0.7        0.77272727 0.71818182 0.76363636 0.68181818 0.75909091\n",
      " 0.73181818 0.75454545 0.71363636 0.72272727 0.8        0.81363636\n",
      " 0.84090909 0.84090909 0.70909091 0.67727273 0.71818182 0.77727273\n",
      " 0.69545455 0.77272727 0.71818182 0.75       0.76363636 0.7\n",
      " 0.69545455 0.69090909 0.72272727 0.63181818]\n",
      "0.6633002879473473\n"
     ]
    }
   ],
   "source": [
    "print(avg_score)\n",
    "print(sum(avg_score)/100)"
   ]
  },
  {
   "cell_type": "markdown",
   "id": "c1c237c1",
   "metadata": {},
   "source": [
    "### Training of the given model"
   ]
  },
  {
   "cell_type": "code",
   "execution_count": 12,
   "id": "224952e4",
   "metadata": {},
   "outputs": [],
   "source": [
    "model = model.fit(x_train, y_train)"
   ]
  },
  {
   "cell_type": "code",
   "execution_count": 14,
   "id": "143b42a1",
   "metadata": {},
   "outputs": [
    {
     "name": "stdout",
     "output_type": "stream",
     "text": [
      "              precision    recall  f1-score   support\n",
      "\n",
      " Not Engaged       1.00      1.00      1.00      9834\n",
      "     Engaged       1.00      1.00      1.00     12221\n",
      "\n",
      "    accuracy                           1.00     22055\n",
      "   macro avg       1.00      1.00      1.00     22055\n",
      "weighted avg       1.00      1.00      1.00     22055\n",
      "\n"
     ]
    }
   ],
   "source": [
    "target_names = ['Not Engaged','Engaged']\n",
    "print(classification_report(y_train,model.predict(x_train),target_names=target_names))"
   ]
  },
  {
   "cell_type": "markdown",
   "id": "894c3fe1",
   "metadata": {},
   "source": [
    "### Saving the Model"
   ]
  },
  {
   "cell_type": "code",
   "execution_count": 15,
   "id": "ac633b6b",
   "metadata": {},
   "outputs": [
    {
     "data": {
      "text/plain": [
       "['./models/model_joblib_decision_tree']"
      ]
     },
     "execution_count": 15,
     "metadata": {},
     "output_type": "execute_result"
    }
   ],
   "source": [
    "patho=r'./models'\n",
    "joblib.dump(model, (os.path.join(patho,r''+'model_joblib_decision_tree')))"
   ]
  },
  {
   "cell_type": "code",
   "execution_count": null,
   "id": "b90252a0",
   "metadata": {},
   "outputs": [],
   "source": []
  }
 ],
 "metadata": {
  "kernelspec": {
   "display_name": "Python 3",
   "language": "python",
   "name": "python3"
  },
  "language_info": {
   "codemirror_mode": {
    "name": "ipython",
    "version": 3
   },
   "file_extension": ".py",
   "mimetype": "text/x-python",
   "name": "python",
   "nbconvert_exporter": "python",
   "pygments_lexer": "ipython3",
   "version": "3.8.5"
  }
 },
 "nbformat": 4,
 "nbformat_minor": 5
}
