{
 "cells": [
  {
   "cell_type": "code",
   "execution_count": 1,
   "id": "61b0f402",
   "metadata": {},
   "outputs": [],
   "source": [
    "import pandas as pd\n",
    "import numpy as np\n",
    "from sklearn.ensemble import ExtraTreesClassifier\n",
    "import matplotlib.pyplot as plt\n"
   ]
  },
  {
   "cell_type": "code",
   "execution_count": 2,
   "id": "24eab197",
   "metadata": {},
   "outputs": [],
   "source": [
    "df1=pd.read_csv(\"./processed/training/engaged.csv\")\n",
    "df2=pd.read_csv(\"./processed/training/notEngaged.csv\")"
   ]
  },
  {
   "cell_type": "code",
   "execution_count": 3,
   "id": "28e3d330",
   "metadata": {},
   "outputs": [],
   "source": [
    "dft=pd.concat([df1,df2])"
   ]
  },
  {
   "cell_type": "code",
   "execution_count": 4,
   "id": "087b2070",
   "metadata": {},
   "outputs": [],
   "source": [
    "y_train=dft[\"Result\"]\n",
    "x_train=dft.drop(\"Result\",axis=1)"
   ]
  },
  {
   "cell_type": "code",
   "execution_count": 5,
   "id": "bd40d0a0",
   "metadata": {},
   "outputs": [
    {
     "data": {
      "text/plain": [
       "ExtraTreesClassifier()"
      ]
     },
     "execution_count": 5,
     "metadata": {},
     "output_type": "execute_result"
    }
   ],
   "source": [
    "model = ExtraTreesClassifier()\n",
    "model.fit(x_train,y_train)"
   ]
  },
  {
   "cell_type": "code",
   "execution_count": 6,
   "id": "c0d22948",
   "metadata": {},
   "outputs": [
    {
     "data": {
      "image/png": "[encoded data removed]",
      "text/plain": [
       "<Figure size 432x288 with 1 Axes>"
      ]
     },
     "metadata": {
      "needs_background": "light"
     },
     "output_type": "display_data"
    },
    {
     "name": "stdout",
     "output_type": "stream",
     "text": [
      " AU12_c    0.032845\n",
      " AU04_c    0.022245\n",
      " AU12_r    0.017673\n",
      " AU04_r    0.017600\n",
      " AU05_c    0.016402\n",
      " AU14_c    0.011384\n",
      " AU06_c    0.007956\n",
      " AU06_r    0.004381\n",
      " AU14_r    0.004194\n",
      " AU10_c    0.004182\n",
      " AU07_r    0.003744\n",
      " p_2       0.003479\n",
      " p_8       0.003298\n",
      " AU10_r    0.003098\n",
      " p_10      0.002696\n",
      " p_7       0.002618\n",
      " p_0       0.002570\n",
      " p_6       0.002548\n",
      " p_23      0.002406\n",
      " AU01_r    0.002369\n",
      " AU17_r    0.002353\n",
      " AU25_r    0.002335\n",
      " AU09_r    0.002272\n",
      " p_12      0.002202\n",
      " p_5       0.002149\n",
      " AU26_r    0.002145\n",
      " AU45_r    0.002130\n",
      " p_20      0.002106\n",
      " AU05_r    0.002104\n",
      " AU02_r    0.002095\n",
      " p_24      0.002089\n",
      " p_11      0.002074\n",
      " AU15_c    0.002041\n",
      " Z_44      0.002036\n",
      " p_13      0.002024\n",
      " p_9       0.002010\n",
      " p_30      0.001986\n",
      " p_27      0.001978\n",
      " AU20_r    0.001976\n",
      " p_19      0.001974\n",
      " p_18      0.001974\n",
      " p_26      0.001970\n",
      " AU23_r    0.001969\n",
      " p_4       0.001963\n",
      " p_15      0.001962\n",
      " p_31      0.001961\n",
      " AU15_r    0.001949\n",
      " p_28      0.001920\n",
      " Z_46      0.001901\n",
      " p_32      0.001897\n",
      "dtype: float64\n"
     ]
    }
   ],
   "source": [
    "#plot graph of feature importances for better visualization\n",
    "feat_importances = pd.Series(model.feature_importances_, index=x_train.columns)\n",
    "feat_importances.nlargest(50).plot(kind='barh')\n",
    "plt.show()\n",
    "\n",
    "\n",
    "list_top=feat_importances.nlargest(50)\n",
    "\n",
    "print(list_top)"
   ]
  },
  {
   "cell_type": "code",
   "execution_count": 7,
   "id": "01fb565e",
   "metadata": {},
   "outputs": [],
   "source": [
    "list_top=list_top.index\n",
    "list_top = pd.DataFrame(list_top)\n",
    "list_top.to_csv(\"TopFeatures.csv\",index=None)"
   ]
  },
  {
   "cell_type": "code",
   "execution_count": null,
   "id": "2c633029",
   "metadata": {},
   "outputs": [],
   "source": []
  }
 ],
 "metadata": {
  "kernelspec": {
   "display_name": "Python 3",
   "language": "python",
   "name": "python3"
  },
  "language_info": {
   "codemirror_mode": {
    "name": "ipython",
    "version": 3
   },
   "file_extension": ".py",
   "mimetype": "text/x-python",
   "name": "python",
   "nbconvert_exporter": "python",
   "pygments_lexer": "ipython3",
   "version": "3.8.5"
  }
 },
 "nbformat": 4,
 "nbformat_minor": 5
}
