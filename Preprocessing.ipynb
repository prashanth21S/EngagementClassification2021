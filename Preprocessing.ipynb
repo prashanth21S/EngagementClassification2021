{
 "cells": [
  {
   "cell_type": "code",
   "execution_count": 1,
   "id": "69fb0962",
   "metadata": {},
   "outputs": [],
   "source": [
    "import pandas as pd\n",
    "import glob\n",
    "import os"
   ]
  },
  {
   "cell_type": "markdown",
   "id": "190bc969",
   "metadata": {},
   "source": [
    "## Engaged"
   ]
  },
  {
   "cell_type": "code",
   "execution_count": 2,
   "id": "7408b4ad",
   "metadata": {
    "scrolled": true
   },
   "outputs": [],
   "source": [
    "path = r'./toBeProcessed/engaged' # use your path\n",
    "all_files = glob.glob(path + \"/*.csv\")\n",
    "li = []\n",
    "\n",
    "for filename in all_files:\n",
    "    df = pd.read_csv(filename, index_col=None, header=0)\n",
    "    li.append(df)\n",
    "\n",
    "frame = pd.concat(li, axis=0, ignore_index=True)\n",
    "frame[\"Result\"]=\"engaged\"\n",
    "frame=frame.drop(['frame',' face_id',' timestamp',' confidence',' success'],axis=1)\n",
    "frame.to_csv(\"engaged.csv\", encoding='utf-8', index=False)"
   ]
  },
  {
   "cell_type": "markdown",
   "id": "2a0f94cf",
   "metadata": {},
   "source": [
    "## Not Engaged"
   ]
  },
  {
   "cell_type": "code",
   "execution_count": 3,
   "id": "97ef018a",
   "metadata": {},
   "outputs": [],
   "source": [
    "path = r'./toBeProcessed/notEngaged' # use your path\n",
    "all_files = glob.glob(path + \"/*.csv\")\n",
    "li = []\n",
    "\n",
    "for filename in all_files:\n",
    "    df = pd.read_csv(filename, index_col=None, header=0)\n",
    "    li.append(df)\n",
    "\n",
    "frame = pd.concat(li, axis=0, ignore_index=True)\n",
    "frame[\"Result\"]=\"not-engaged\"\n",
    "frame=frame.drop(['frame',' face_id',' timestamp',' confidence',' success'],axis=1)\n",
    "frame.to_csv(\"notEngaged.csv\", encoding='utf-8', index=False)"
   ]
  },
  {
   "cell_type": "markdown",
   "id": "d1099ec4",
   "metadata": {},
   "source": [
    "## Testing data"
   ]
  },
  {
   "cell_type": "code",
   "execution_count": 4,
   "id": "e7071c3b",
   "metadata": {},
   "outputs": [],
   "source": [
    "pathl = r'./toBeProcessed/testing' # use your path\n",
    "all_files = glob.glob(pathl + \"/*.csv\")\n",
    "patho=r'./testingProcessed'\n",
    "for filename in all_files:\n",
    "    df = pd.read_csv(filename, index_col=None, header=0)\n",
    "    df=df.drop(['frame',' face_id',' timestamp',' confidence',' success'],axis=1)\n",
    "    fileToBeSaved=filename.replace(\"./toBeProcessed/testing/\",\"\")\n",
    "    df.to_csv(os.path.join(patho,r''+fileToBeSaved),index=False)"
   ]
  },
  {
   "cell_type": "code",
   "execution_count": null,
   "id": "473e4c28",
   "metadata": {},
   "outputs": [],
   "source": []
  }
 ],
 "metadata": {
  "kernelspec": {
   "display_name": "Python 3",
   "language": "python",
   "name": "python3"
  },
  "language_info": {
   "codemirror_mode": {
    "name": "ipython",
    "version": 3
   },
   "file_extension": ".py",
   "mimetype": "text/x-python",
   "name": "python",
   "nbconvert_exporter": "python",
   "pygments_lexer": "ipython3",
   "version": "3.8.5"
  }
 },
 "nbformat": 4,
 "nbformat_minor": 5
}
