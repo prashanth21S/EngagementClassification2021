{
 "cells": [
  {
   "cell_type": "code",
   "execution_count": 1,
   "id": "67a62a6a",
   "metadata": {},
   "outputs": [],
   "source": [
    "import pandas as pd\n",
    "import numpy as np\n",
    "import matplotlib.pyplot as plt\n",
    "import joblib\n",
    "#from sklearn.externals import joblib\n",
    "from sklearn import svm\n",
    "from sklearn.preprocessing import StandardScaler\n",
    "import os"
   ]
  },
  {
   "cell_type": "code",
   "execution_count": 2,
   "id": "bff1f32f",
   "metadata": {},
   "outputs": [],
   "source": [
    "df1=pd.read_csv(\"./processed/training/engaged.csv\")\n",
    "df2=pd.read_csv(\"./processed/training/notEngaged.csv\")"
   ]
  },
  {
   "cell_type": "code",
   "execution_count": 3,
   "id": "cbf96906",
   "metadata": {},
   "outputs": [],
   "source": [
    "dft=pd.concat([df1,df2])"
   ]
  },
  {
   "cell_type": "code",
   "execution_count": 4,
   "id": "3d1c619d",
   "metadata": {},
   "outputs": [],
   "source": [
    "y_train=dft[\"Result\"]\n",
    "x_train=dft.drop(\"Result\",axis=1)\n",
    "scaler = StandardScaler()\n",
    "model = scaler.fit(x_train)\n",
    "x_train = model.transform(x_train)"
   ]
  },
  {
   "cell_type": "code",
   "execution_count": null,
   "id": "14093887",
   "metadata": {},
   "outputs": [],
   "source": [
    "model_linear = svm.SVC(kernel = 'linear')\n",
    "model_linear.fit(x_train, y_train)\n",
    "\n",
    "model_poly = svm.SVC(kernel = 'poly')\n",
    "model_poly.fit(x_train, y_train)\n",
    "\n",
    "model_rbf = svm.SVC(kernel = 'rbf')\n",
    "model_rbf.fit(x_train, y_train)"
   ]
  },
  {
   "cell_type": "code",
   "execution_count": null,
   "id": "ae54874d",
   "metadata": {},
   "outputs": [],
   "source": [
    "patho=r'./models'\n",
    "joblib.dump(model_linear, (os.path.join(patho,r''+'model_joblib_svm_linear')))\n",
    "joblib.dump(model_poly, (os.path.join(patho,r''+'model_joblib_svm_poly')))\n",
    "joblib.dump(model_rbf, (os.path.join(patho,r''+'model_joblib_svm_rbf')))"
   ]
  },
  {
   "cell_type": "code",
   "execution_count": null,
   "id": "d2b7c481",
   "metadata": {},
   "outputs": [],
   "source": [
    "mj = joblib.load('./models/model_joblib_svm_linear')\n",
    "\n",
    "mj1 = joblib.load('./models/model_joblib_svm_poly')\n",
    "\n",
    "mj2 = joblib.load('./models/model_joblib_svm_rbf')"
   ]
  },
  {
   "cell_type": "code",
   "execution_count": null,
   "id": "8e924fb2",
   "metadata": {},
   "outputs": [],
   "source": [
    "# Linear Kernel\n",
    "y_pred=mj.predict(x_train)"
   ]
  },
  {
   "cell_type": "code",
   "execution_count": null,
   "id": "43795e38",
   "metadata": {},
   "outputs": [],
   "source": [
    "count=0"
   ]
  },
  {
   "cell_type": "code",
   "execution_count": null,
   "id": "1efb4bb6",
   "metadata": {},
   "outputs": [],
   "source": [
    "y_train=y_train.to_numpy()"
   ]
  },
  {
   "cell_type": "code",
   "execution_count": null,
   "id": "59043200",
   "metadata": {},
   "outputs": [],
   "source": [
    "for i in range(len(y_pred)):\n",
    "    if(y_pred[i]==y_train[i]):\n",
    "        count=count+1"
   ]
  },
  {
   "cell_type": "code",
   "execution_count": null,
   "id": "ccc4bf8e",
   "metadata": {
    "scrolled": true
   },
   "outputs": [],
   "source": [
    "print(count/len(y_pred))"
   ]
  },
  {
   "cell_type": "code",
   "execution_count": null,
   "id": "7edaa68f",
   "metadata": {},
   "outputs": [],
   "source": [
    "# Poly Kernel\n",
    "y_pred = mj1.predict(x_train)\n",
    "count=0\n",
    "#y_train=y_train.to_numpy()\n",
    "for i in range(len(y_pred)):\n",
    "    if(y_pred[i]==y_train[i]):\n",
    "        count=count+1\n",
    "\n",
    "print(count/len(y_pred))"
   ]
  },
  {
   "cell_type": "code",
   "execution_count": null,
   "id": "8592cd2c",
   "metadata": {},
   "outputs": [],
   "source": [
    "# RBF Kernel\n",
    "y_pred = mj2.predict(x_train)\n",
    "count=0\n",
    "#y_train=y_train.to_numpy()\n",
    "for i in range(len(y_pred)):\n",
    "    if(y_pred[i]==y_train[i]):\n",
    "        count=count+1\n",
    "\n",
    "print(count/len(y_pred))"
   ]
  },
  {
   "cell_type": "code",
   "execution_count": null,
   "id": "c2403b99",
   "metadata": {},
   "outputs": [],
   "source": []
  }
 ],
 "metadata": {
  "kernelspec": {
   "display_name": "Python 3",
   "language": "python",
   "name": "python3"
  },
  "language_info": {
   "codemirror_mode": {
    "name": "ipython",
    "version": 3
   },
   "file_extension": ".py",
   "mimetype": "text/x-python",
   "name": "python",
   "nbconvert_exporter": "python",
   "pygments_lexer": "ipython3",
   "version": "3.8.5"
  }
 },
 "nbformat": 4,
 "nbformat_minor": 5
}
