{
 "cells": [
  {
   "cell_type": "code",
   "execution_count": 1,
   "id": "67a62a6a",
   "metadata": {},
   "outputs": [],
   "source": [
    "import pandas as pd\n",
    "import numpy as np\n",
    "import matplotlib.pyplot as plt\n",
    "import joblib\n",
    "#from sklearn.externals import joblib\n",
    "from sklearn import svm\n",
    "from sklearn.preprocessing import StandardScaler\n",
    "import os\n",
    "from sklearn.model_selection import cross_val_score"
   ]
  },
  {
   "cell_type": "code",
   "execution_count": 2,
   "id": "bff1f32f",
   "metadata": {},
   "outputs": [],
   "source": [
    "df1=pd.read_csv(\"./processed/training/engaged.csv\")\n",
    "df2=pd.read_csv(\"./processed/training/notEngaged.csv\")\n",
    "dff=pd.read_csv(\"./TopFeatures.csv\")"
   ]
  },
  {
   "cell_type": "code",
   "execution_count": 3,
   "id": "cbf96906",
   "metadata": {},
   "outputs": [],
   "source": [
    "dft=pd.concat([df1,df2])"
   ]
  },
  {
   "cell_type": "code",
   "execution_count": 4,
   "id": "3a793b92",
   "metadata": {},
   "outputs": [],
   "source": [
    "feat=dff.to_numpy()\n",
    "feat=feat.reshape(-1)"
   ]
  },
  {
   "cell_type": "code",
   "execution_count": 5,
   "id": "3d1c619d",
   "metadata": {},
   "outputs": [],
   "source": [
    "y_train=dft[\"Result\"]\n",
    "x_train=dft.drop(\"Result\",axis=1)\n",
    "x_train=x_train[feat]"
   ]
  },
  {
   "cell_type": "code",
   "execution_count": 6,
   "id": "83526a52",
   "metadata": {},
   "outputs": [],
   "source": [
    "scaler = StandardScaler()\n",
    "model = scaler.fit(x_train)\n",
    "x_train = model.transform(x_train)"
   ]
  },
  {
   "cell_type": "code",
   "execution_count": 7,
   "id": "14093887",
   "metadata": {},
   "outputs": [
    {
     "data": {
      "text/plain": [
       "SVC()"
      ]
     },
     "execution_count": 7,
     "metadata": {},
     "output_type": "execute_result"
    }
   ],
   "source": [
    "model_linear = svm.SVC(kernel = 'linear')\n",
    "model_linear.fit(x_train, y_train)\n",
    "\n",
    "model_poly = svm.SVC(kernel = 'poly')\n",
    "model_poly.fit(x_train, y_train)\n",
    "\n",
    "model_rbf = svm.SVC(kernel = 'rbf')\n",
    "model_rbf.fit(x_train, y_train)"
   ]
  },
  {
   "cell_type": "code",
   "execution_count": 8,
   "id": "ae54874d",
   "metadata": {},
   "outputs": [
    {
     "data": {
      "text/plain": [
       "['./models/model_joblib_svm_rbf']"
      ]
     },
     "execution_count": 8,
     "metadata": {},
     "output_type": "execute_result"
    }
   ],
   "source": [
    "patho=r'./models'\n",
    "joblib.dump(model_linear, (os.path.join(patho,r''+'model_joblib_svm_linear')))\n",
    "joblib.dump(model_poly, (os.path.join(patho,r''+'model_joblib_svm_poly')))\n",
    "joblib.dump(model_rbf, (os.path.join(patho,r''+'model_joblib_svm_rbf')))"
   ]
  },
  {
   "cell_type": "code",
   "execution_count": 9,
   "id": "d2b7c481",
   "metadata": {},
   "outputs": [],
   "source": [
    "mj = joblib.load('./models/model_joblib_svm_linear')\n",
    "\n",
    "mj1 = joblib.load('./models/model_joblib_svm_poly')\n",
    "\n",
    "mj2 = joblib.load('./models/model_joblib_svm_rbf')"
   ]
  },
  {
   "cell_type": "code",
   "execution_count": 10,
   "id": "c2403b99",
   "metadata": {},
   "outputs": [],
   "source": [
    "avg_score_mj=cross_val_score(mj,x_train, y_train, cv=5)"
   ]
  },
  {
   "cell_type": "code",
   "execution_count": null,
   "id": "56148f81",
   "metadata": {},
   "outputs": [],
   "source": [
    "avg_score_mj1=cross_val_score(mj,x_train, y_train, cv=5)"
   ]
  },
  {
   "cell_type": "code",
   "execution_count": null,
   "id": "2ac633e9",
   "metadata": {},
   "outputs": [],
   "source": [
    "avg_score_mj2=cross_val_score(mj,x_train, y_train, cv=5)"
   ]
  },
  {
   "cell_type": "code",
   "execution_count": 12,
   "id": "142ac3fe",
   "metadata": {},
   "outputs": [
    {
     "name": "stdout",
     "output_type": "stream",
     "text": [
      "[0.69689413 0.60122421 0.61686692 0.78281569 0.77601451]\n",
      "0.6947630922693266\n"
     ]
    }
   ],
   "source": [
    "print(avg_score_mj)\n",
    "print(sum(avg_score_mj)/5)"
   ]
  },
  {
   "cell_type": "code",
   "execution_count": 13,
   "id": "3fe20f7e",
   "metadata": {},
   "outputs": [
    {
     "name": "stdout",
     "output_type": "stream",
     "text": [
      "[0.69689413 0.60122421 0.61686692 0.78281569 0.77601451]\n",
      "0.6947630922693266\n"
     ]
    }
   ],
   "source": [
    "print(avg_score_mj1)\n",
    "print(sum(avg_score_mj1)/5)"
   ]
  },
  {
   "cell_type": "code",
   "execution_count": 14,
   "id": "fa079095",
   "metadata": {},
   "outputs": [
    {
     "name": "stdout",
     "output_type": "stream",
     "text": [
      "[0.69689413 0.60122421 0.61686692 0.78281569 0.77601451]\n",
      "0.6947630922693266\n"
     ]
    }
   ],
   "source": [
    "print(avg_score_mj2)\n",
    "print(sum(avg_score_mj2)/5)"
   ]
  },
  {
   "cell_type": "code",
   "execution_count": null,
   "id": "8b2e9e00",
   "metadata": {},
   "outputs": [],
   "source": []
  }
 ],
 "metadata": {
  "kernelspec": {
   "display_name": "Python 3",
   "language": "python",
   "name": "python3"
  },
  "language_info": {
   "codemirror_mode": {
    "name": "ipython",
    "version": 3
   },
   "file_extension": ".py",
   "mimetype": "text/x-python",
   "name": "python",
   "nbconvert_exporter": "python",
   "pygments_lexer": "ipython3",
   "version": "3.8.5"
  }
 },
 "nbformat": 4,
 "nbformat_minor": 5
}
