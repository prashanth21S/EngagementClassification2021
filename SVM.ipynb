{
 "cells": [
  {
   "cell_type": "code",
   "execution_count": 1,
   "id": "67a62a6a",
   "metadata": {},
   "outputs": [],
   "source": [
    "import pandas as pd\n",
    "import numpy as np\n",
    "import matplotlib.pyplot as plt\n",
    "import joblib\n",
    "#from sklearn.externals import joblib\n",
    "from sklearn import svm\n",
    "from sklearn.preprocessing import StandardScaler\n",
    "import os\n",
    "from sklearn.model_selection import cross_val_score"
   ]
  },
  {
   "cell_type": "code",
   "execution_count": 2,
   "id": "bff1f32f",
   "metadata": {},
   "outputs": [],
   "source": [
    "df1=pd.read_csv(\"./processed/training/engaged.csv\")\n",
    "df2=pd.read_csv(\"./processed/training/notEngaged.csv\")\n",
    "dff=pd.read_csv(\"./TopFeatures.csv\")"
   ]
  },
  {
   "cell_type": "code",
   "execution_count": 3,
   "id": "cbf96906",
   "metadata": {},
   "outputs": [],
   "source": [
    "dft=pd.concat([df1,df2])"
   ]
  },
  {
   "cell_type": "code",
   "execution_count": 4,
   "id": "3a793b92",
   "metadata": {},
   "outputs": [],
   "source": [
    "feat=dff.to_numpy()\n",
    "feat=feat.reshape(-1)"
   ]
  },
  {
   "cell_type": "code",
   "execution_count": 5,
   "id": "3d1c619d",
   "metadata": {},
   "outputs": [],
   "source": [
    "y_train=dft[\"Result\"]\n",
    "x_train=dft.drop(\"Result\",axis=1)\n",
    "x_train=x_train[feat]"
   ]
  },
  {
   "cell_type": "code",
   "execution_count": 6,
   "id": "83526a52",
   "metadata": {},
   "outputs": [],
   "source": [
    "scaler = StandardScaler()\n",
    "model = scaler.fit(x_train)\n",
    "x_train = model.transform(x_train)"
   ]
  },
  {
   "cell_type": "code",
   "execution_count": 7,
   "id": "27af73fa",
   "metadata": {},
   "outputs": [],
   "source": [
    "model_linear = svm.SVC(kernel = 'linear')"
   ]
  },
  {
   "cell_type": "code",
   "execution_count": 8,
   "id": "145263b1",
   "metadata": {},
   "outputs": [],
   "source": [
    "model_poly = svm.SVC(kernel = 'poly')"
   ]
  },
  {
   "cell_type": "code",
   "execution_count": 9,
   "id": "2b54a5c0",
   "metadata": {},
   "outputs": [],
   "source": [
    "model_rbf = svm.SVC(kernel = 'rbf')"
   ]
  },
  {
   "cell_type": "code",
   "execution_count": 10,
   "id": "32c59750",
   "metadata": {},
   "outputs": [],
   "source": [
    "avg_score_linear=cross_val_score(model_linear,x_train, y_train, cv=5)"
   ]
  },
  {
   "cell_type": "code",
   "execution_count": 11,
   "id": "9c9218ad",
   "metadata": {},
   "outputs": [],
   "source": [
    "avg_score_poly=cross_val_score(model_poly,x_train, y_train, cv=5)"
   ]
  },
  {
   "cell_type": "code",
   "execution_count": 12,
   "id": "050e12dd",
   "metadata": {},
   "outputs": [],
   "source": [
    "avg_score_rbf=cross_val_score(model_rbf,x_train, y_train, cv=5)"
   ]
  },
  {
   "cell_type": "code",
   "execution_count": 13,
   "id": "316de8e4",
   "metadata": {},
   "outputs": [
    {
     "name": "stdout",
     "output_type": "stream",
     "text": [
      "[0.7070959  0.60530492 0.61936069 0.78666969 0.77465427]\n",
      "0.6986170936295625\n",
      "[0.71367037 0.60507821 0.63137611 0.76399909 0.7717071 ]\n",
      "0.6971661754704149\n",
      "[0.71979143 0.63228293 0.64769893 0.8023124  0.81024711]\n",
      "0.722466560870551\n"
     ]
    }
   ],
   "source": [
    "print(avg_score_linear)\n",
    "print(sum(avg_score_linear)/5)\n",
    "\n",
    "print(avg_score_poly)\n",
    "print(sum(avg_score_poly)/5)\n",
    "\n",
    "print(avg_score_rbf)\n",
    "print(sum(avg_score_rbf)/5)\n"
   ]
  },
  {
   "cell_type": "code",
   "execution_count": null,
   "id": "c0790f56",
   "metadata": {},
   "outputs": [],
   "source": []
  },
  {
   "cell_type": "code",
   "execution_count": 14,
   "id": "14093887",
   "metadata": {},
   "outputs": [],
   "source": [
    "model_linear=model_linear.fit(x_train, y_train)"
   ]
  },
  {
   "cell_type": "code",
   "execution_count": 15,
   "id": "19bf6a32",
   "metadata": {},
   "outputs": [],
   "source": [
    "model_poly=model_poly.fit(x_train, y_train)"
   ]
  },
  {
   "cell_type": "code",
   "execution_count": 16,
   "id": "6e0150cd",
   "metadata": {},
   "outputs": [],
   "source": [
    "model_rbf=model_rbf.fit(x_train, y_train)"
   ]
  },
  {
   "cell_type": "code",
   "execution_count": 17,
   "id": "ae54874d",
   "metadata": {},
   "outputs": [],
   "source": [
    "patho=r'./models'"
   ]
  },
  {
   "cell_type": "code",
   "execution_count": 18,
   "id": "f444833c",
   "metadata": {},
   "outputs": [
    {
     "data": {
      "text/plain": [
       "['./models/model_joblib_svm_linear']"
      ]
     },
     "execution_count": 18,
     "metadata": {},
     "output_type": "execute_result"
    }
   ],
   "source": [
    "joblib.dump(model_linear, (os.path.join(patho,r''+'model_joblib_svm_linear')))"
   ]
  },
  {
   "cell_type": "code",
   "execution_count": 19,
   "id": "2b039a9e",
   "metadata": {},
   "outputs": [
    {
     "data": {
      "text/plain": [
       "['./models/model_joblib_svm_poly']"
      ]
     },
     "execution_count": 19,
     "metadata": {},
     "output_type": "execute_result"
    }
   ],
   "source": [
    "joblib.dump(model_poly, (os.path.join(patho,r''+'model_joblib_svm_poly')))"
   ]
  },
  {
   "cell_type": "code",
   "execution_count": 20,
   "id": "e62e91e2",
   "metadata": {},
   "outputs": [
    {
     "data": {
      "text/plain": [
       "['./models/model_joblib_svm_rbf']"
      ]
     },
     "execution_count": 20,
     "metadata": {},
     "output_type": "execute_result"
    }
   ],
   "source": [
    "joblib.dump(model_rbf, (os.path.join(patho,r''+'model_joblib_svm_rbf')))"
   ]
  }
 ],
 "metadata": {
  "kernelspec": {
   "display_name": "Python 3",
   "language": "python",
   "name": "python3"
  },
  "language_info": {
   "codemirror_mode": {
    "name": "ipython",
    "version": 3
   },
   "file_extension": ".py",
   "mimetype": "text/x-python",
   "name": "python",
   "nbconvert_exporter": "python",
   "pygments_lexer": "ipython3",
   "version": "3.8.5"
  }
 },
 "nbformat": 4,
 "nbformat_minor": 5
}
