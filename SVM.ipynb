{
 "cells": [
  {
   "cell_type": "code",
   "execution_count": 1,
   "id": "67a62a6a",
   "metadata": {},
   "outputs": [],
   "source": [
    "import pandas as pd\n",
    "import numpy as np\n",
    "import matplotlib.pyplot as plt\n",
    "import joblib\n",
    "#from sklearn.externals import joblib\n",
    "from sklearn import svm\n",
    "from sklearn.preprocessing import StandardScaler\n",
    "import os\n",
    "from sklearn.model_selection import cross_val_score"
   ]
  },
  {
   "cell_type": "code",
   "execution_count": 2,
   "id": "bff1f32f",
   "metadata": {},
   "outputs": [],
   "source": [
    "df1=pd.read_csv(\"./processed/training/engaged.csv\")\n",
    "df2=pd.read_csv(\"./processed/training/notEngaged.csv\")\n",
    "dff=pd.read_csv(\"./TopFeatures.csv\")"
   ]
  },
  {
   "cell_type": "code",
   "execution_count": 3,
   "id": "cbf96906",
   "metadata": {},
   "outputs": [],
   "source": [
    "dft=pd.concat([df1,df2])"
   ]
  },
  {
   "cell_type": "code",
   "execution_count": 4,
   "id": "3a793b92",
   "metadata": {},
   "outputs": [],
   "source": [
    "feat=dff.to_numpy()\n",
    "feat=feat.reshape(-1)"
   ]
  },
  {
   "cell_type": "code",
   "execution_count": 5,
   "id": "3d1c619d",
   "metadata": {},
   "outputs": [],
   "source": [
    "y_train=dft[\"Result\"]\n",
    "x_train=dft.drop(\"Result\",axis=1)\n",
    "x_train=x_train[feat]"
   ]
  },
  {
   "cell_type": "code",
   "execution_count": 6,
   "id": "83526a52",
   "metadata": {},
   "outputs": [],
   "source": [
    "scaler = StandardScaler()\n",
    "model = scaler.fit(x_train)\n",
    "x_train = model.transform(x_train)"
   ]
  },
  {
   "cell_type": "code",
   "execution_count": 7,
   "id": "3b353cef",
   "metadata": {},
   "outputs": [],
   "source": [
    "model_linear = svm.SVC(kernel = 'linear')"
   ]
  },
  {
   "cell_type": "code",
   "execution_count": 8,
   "id": "1eb55bfc",
   "metadata": {},
   "outputs": [],
   "source": [
    "model_poly = svm.SVC(kernel = 'poly')"
   ]
  },
  {
   "cell_type": "code",
   "execution_count": 9,
   "id": "7a10000f",
   "metadata": {},
   "outputs": [],
   "source": [
    "model_rbf = svm.SVC(kernel = 'rbf')"
   ]
  },
  {
   "cell_type": "code",
   "execution_count": null,
   "id": "89ea5080",
   "metadata": {},
   "outputs": [],
   "source": [
    "avg_score_linear=cross_val_score(model_linear,x_train, y_train, cv=5)"
   ]
  },
  {
   "cell_type": "code",
   "execution_count": null,
   "id": "624f4ab1",
   "metadata": {},
   "outputs": [],
   "source": [
    "avg_score_poly=cross_val_score(model_poly,x_train, y_train, cv=5)"
   ]
  },
  {
   "cell_type": "code",
   "execution_count": null,
   "id": "439a1359",
   "metadata": {},
   "outputs": [],
   "source": [
    "avg_score_rbf=cross_val_score(model_rbf,x_train, y_train, cv=5)"
   ]
  },
  {
   "cell_type": "code",
   "execution_count": null,
   "id": "9952e4c0",
   "metadata": {},
   "outputs": [],
   "source": [
    "print(avg_score_linear)\n",
    "print(sum(avg_score_linear)/5)\n",
    "\n",
    "print(avg_score_poly)\n",
    "print(sum(avg_score_poly)/5)\n",
    "\n",
    "print(avg_score_rbf)\n",
    "print(sum(avg_score_rbf)/5)\n"
   ]
  },
  {
   "cell_type": "code",
   "execution_count": null,
   "id": "14093887",
   "metadata": {},
   "outputs": [],
   "source": [
    "model_linear=model_linear.fit(x_train, y_train)"
   ]
  },
  {
   "cell_type": "code",
   "execution_count": null,
   "id": "93c640b7",
   "metadata": {},
   "outputs": [],
   "source": [
    "model_poly=model_poly.fit(x_train, y_train)"
   ]
  },
  {
   "cell_type": "code",
   "execution_count": null,
   "id": "8c8da1e2",
   "metadata": {},
   "outputs": [],
   "source": [
    "model_rbf=model_rbf.fit(x_train, y_train)"
   ]
  },
  {
   "cell_type": "code",
   "execution_count": null,
   "id": "ae54874d",
   "metadata": {},
   "outputs": [],
   "source": [
    "patho=r'./models'"
   ]
  },
  {
   "cell_type": "code",
   "execution_count": null,
   "id": "5327424c",
   "metadata": {},
   "outputs": [],
   "source": [
    "joblib.dump(model_linear, (os.path.join(patho,r''+'model_joblib_svm_linear')))"
   ]
  },
  {
   "cell_type": "code",
   "execution_count": null,
   "id": "b0be171b",
   "metadata": {},
   "outputs": [],
   "source": [
    "joblib.dump(model_poly, (os.path.join(patho,r''+'model_joblib_svm_poly')))"
   ]
  },
  {
   "cell_type": "code",
   "execution_count": null,
   "id": "e421a40c",
   "metadata": {},
   "outputs": [],
   "source": [
    "joblib.dump(model_rbf, (os.path.join(patho,r''+'model_joblib_svm_rbf')))"
   ]
  }
 ],
 "metadata": {
  "kernelspec": {
   "display_name": "Python 3",
   "language": "python",
   "name": "python3"
  },
  "language_info": {
   "codemirror_mode": {
    "name": "ipython",
    "version": 3
   },
   "file_extension": ".py",
   "mimetype": "text/x-python",
   "name": "python",
   "nbconvert_exporter": "python",
   "pygments_lexer": "ipython3",
   "version": "3.8.5"
  }
 },
 "nbformat": 4,
 "nbformat_minor": 5
}
