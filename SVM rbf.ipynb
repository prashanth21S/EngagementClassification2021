{
 "cells": [
  {
   "cell_type": "code",
   "execution_count": 1,
   "id": "51c2b978",
   "metadata": {},
   "outputs": [],
   "source": [
    "%matplotlib inline\n",
    "import pandas as pd\n",
    "import numpy as np\n",
    "import matplotlib.pyplot as plt\n",
    "import joblib\n",
    "import seaborn as sns\n",
    "from sklearn.model_selection import learning_curve\n",
    "from sklearn.model_selection import ShuffleSplit\n",
    "from sklearn import svm\n",
    "from sklearn.preprocessing import StandardScaler\n",
    "from sklearn import metrics\n",
    "import os\n",
    "from sklearn.model_selection import cross_val_score\n",
    "from sklearn.metrics import classification_report"
   ]
  },
  {
   "cell_type": "markdown",
   "id": "a1ffe179",
   "metadata": {},
   "source": [
    "### Reading Training data"
   ]
  },
  {
   "cell_type": "code",
   "execution_count": 2,
   "id": "3e91745d",
   "metadata": {},
   "outputs": [],
   "source": [
    "df1=pd.read_csv(\"./processed/training/engaged.csv\")\n",
    "df2=pd.read_csv(\"./processed/training/notEngaged.csv\")\n",
    "dff=pd.read_csv(\"./TopFeatures.csv\")"
   ]
  },
  {
   "cell_type": "code",
   "execution_count": 3,
   "id": "57cdf948",
   "metadata": {},
   "outputs": [],
   "source": [
    "dft=pd.concat([df1,df2])"
   ]
  },
  {
   "cell_type": "code",
   "execution_count": 4,
   "id": "b2ef7549",
   "metadata": {},
   "outputs": [],
   "source": [
    "feat=dff.to_numpy()\n",
    "feat=feat.reshape(-1)"
   ]
  },
  {
   "cell_type": "code",
   "execution_count": 5,
   "id": "ac27f2db",
   "metadata": {},
   "outputs": [
    {
     "name": "stdout",
     "output_type": "stream",
     "text": [
      "[' AU12_c' ' AU04_c' ' AU12_r' ' AU04_r' ' AU05_c' ' AU14_c' ' AU06_c'\n",
      " ' AU06_r' ' AU14_r' ' AU07_r' ' p_8' ' AU10_c' ' p_2' ' AU10_r' ' p_0'\n",
      " ' p_23' ' p_7' ' p_6' ' p_10' ' AU01_r' ' AU25_r' ' p_24' ' p_12' ' p_11'\n",
      " ' AU17_r' ' AU09_r' ' AU26_r' ' p_9' ' AU45_r' ' p_20' ' AU05_r'\n",
      " ' AU23_r' ' p_13' ' p_19' ' p_33' ' gaze_angle_y' ' p_5' ' AU02_r'\n",
      " ' p_26' ' p_18' ' p_16' ' gaze_1_y' ' p_32' ' AU07_c' ' AU15_c' ' AU15_r'\n",
      " ' p_30' ' p_31' ' AU20_r' ' p_4']\n"
     ]
    }
   ],
   "source": [
    "print(feat)"
   ]
  },
  {
   "cell_type": "code",
   "execution_count": 6,
   "id": "4e4e06a6",
   "metadata": {},
   "outputs": [],
   "source": [
    "y_train=dft[\"Result\"]\n",
    "x_train=dft.drop(\"Result\",axis=1)\n",
    "x_train=x_train[feat]"
   ]
  },
  {
   "cell_type": "code",
   "execution_count": null,
   "id": "f704d88f",
   "metadata": {},
   "outputs": [],
   "source": []
  },
  {
   "cell_type": "code",
   "execution_count": 7,
   "id": "6f0218bd",
   "metadata": {},
   "outputs": [],
   "source": [
    "def plot_learning_curve(estimator, title, X, y, axes=None, ylim=None, cv=None,\n",
    "                        n_jobs=None, train_sizes=np.linspace(.1, 1.0, 5)):\n",
    "    if axes is None:\n",
    "        _, axes = plt.subplots(1, 3, figsize=(20, 5))\n",
    "\n",
    "    axes[0].set_title(title)\n",
    "    if ylim is not None:\n",
    "        axes[0].set_ylim(*ylim)\n",
    "    axes[0].set_xlabel(\"Training examples\")\n",
    "    axes[0].set_ylabel(\"Score\")\n",
    "\n",
    "    train_sizes, train_scores, test_scores, fit_times, _ = \\\n",
    "        learning_curve(estimator, X, y, cv=cv, n_jobs=n_jobs,\n",
    "                       train_sizes=train_sizes,\n",
    "                       return_times=True)\n",
    "    train_scores_mean = np.mean(train_scores, axis=1)\n",
    "    train_scores_std = np.std(train_scores, axis=1)\n",
    "    test_scores_mean = np.mean(test_scores, axis=1)\n",
    "    test_scores_std = np.std(test_scores, axis=1)\n",
    "    fit_times_mean = np.mean(fit_times, axis=1)\n",
    "    fit_times_std = np.std(fit_times, axis=1)\n",
    "\n",
    "    # Plot learning curve\n",
    "    axes[0].grid()\n",
    "    axes[0].fill_between(train_sizes, train_scores_mean - train_scores_std,\n",
    "                         train_scores_mean + train_scores_std, alpha=0.1,\n",
    "                         color=\"r\")\n",
    "    axes[0].fill_between(train_sizes, test_scores_mean - test_scores_std,\n",
    "                         test_scores_mean + test_scores_std, alpha=0.1,\n",
    "                         color=\"g\")\n",
    "    axes[0].plot(train_sizes, train_scores_mean, 'o-', color=\"r\",\n",
    "                 label=\"Training score\")\n",
    "    axes[0].plot(train_sizes, test_scores_mean, 'o-', color=\"g\",\n",
    "                 label=\"Cross-validation score\")\n",
    "    axes[0].legend(loc=\"best\")\n",
    "\n",
    "    # Plot n_samples vs fit_times\n",
    "    axes[1].grid()\n",
    "    axes[1].plot(train_sizes, fit_times_mean, 'o-')\n",
    "    axes[1].fill_between(train_sizes, fit_times_mean - fit_times_std,\n",
    "                         fit_times_mean + fit_times_std, alpha=0.1)\n",
    "    axes[1].set_xlabel(\"Training examples\")\n",
    "    axes[1].set_ylabel(\"fit_times\")\n",
    "    axes[1].set_title(\"Scalability of the model\")\n",
    "\n",
    "    # Plot fit_time vs score\n",
    "    axes[2].grid()\n",
    "    axes[2].plot(fit_times_mean, test_scores_mean, 'o-')\n",
    "    axes[2].fill_between(fit_times_mean, test_scores_mean - test_scores_std,\n",
    "                         test_scores_mean + test_scores_std, alpha=0.1)\n",
    "    axes[2].set_xlabel(\"fit_times\")\n",
    "    axes[2].set_ylabel(\"Score\")\n",
    "    axes[2].set_title(\"Performance of the model\")\n",
    "\n",
    "    return plt\n",
    "\n"
   ]
  },
  {
   "cell_type": "code",
   "execution_count": null,
   "id": "c4632f96",
   "metadata": {},
   "outputs": [],
   "source": []
  },
  {
   "cell_type": "markdown",
   "id": "e1b85fd3",
   "metadata": {},
   "source": [
    "### Initialize model with optimum parameters"
   ]
  },
  {
   "cell_type": "code",
   "execution_count": 8,
   "id": "61b5447c",
   "metadata": {},
   "outputs": [],
   "source": [
    "model = svm.SVC(kernel = 'rbf')"
   ]
  },
  {
   "cell_type": "code",
   "execution_count": null,
   "id": "ebc7c4d5",
   "metadata": {},
   "outputs": [],
   "source": [
    "#fig, axes = plt.subplots(3, 1, figsize=(10, 15))\n",
    "\n",
    "\n",
    "# Cross validation with 100 iterations to get smoother mean test and train\n",
    "# score curves, each time with 20% data randomly selected as a validation set.\n",
    "cv = ShuffleSplit(n_splits=100, test_size=0.2, random_state=0)\n",
    "\n",
    "\n",
    "title = \"Learning Curve for SVM with RBF Kernel\"\n",
    "estimator = model\n",
    "plot_learning_curve(estimator, title, x_train, y_train,\n",
    "                    cv=cv, n_jobs=4)\n",
    "plt.show()\n",
    "plt.close()\n",
    "    "
   ]
  },
  {
   "cell_type": "markdown",
   "id": "ecace03c",
   "metadata": {},
   "source": [
    "### Score of the model with 100 folds"
   ]
  },
  {
   "cell_type": "code",
   "execution_count": null,
   "id": "5093d6a4",
   "metadata": {},
   "outputs": [],
   "source": [
    "avg_score=cross_val_score(model,x_train, y_train, cv=100)"
   ]
  },
  {
   "cell_type": "code",
   "execution_count": null,
   "id": "41e00d1d",
   "metadata": {},
   "outputs": [],
   "source": [
    "print(avg_score)\n",
    "print(sum(avg_score)/100)"
   ]
  },
  {
   "cell_type": "markdown",
   "id": "c89afa39",
   "metadata": {},
   "source": [
    "### Training of the given model"
   ]
  },
  {
   "cell_type": "code",
   "execution_count": null,
   "id": "0aac64e1",
   "metadata": {},
   "outputs": [],
   "source": [
    "model = model.fit(x_train, y_train)"
   ]
  },
  {
   "cell_type": "code",
   "execution_count": null,
   "id": "346cc45a",
   "metadata": {},
   "outputs": [],
   "source": [
    "target_names = ['Not Engaged','Engaged']\n",
    "claf_report=classification_report(y_train,model.predict(x_train),target_names=target_names,output_dict=True)\n",
    "print(claf_report)"
   ]
  },
  {
   "cell_type": "code",
   "execution_count": null,
   "id": "9748f443",
   "metadata": {},
   "outputs": [],
   "source": [
    "helix=pd.read_csv(\"./TopFeatures.csv\")\n",
    "h2=pd.read_csv(\"./heatMaps.csv\")\n",
    "helix['value']=h2\n",
    "#print(helix)\n",
    "helix.to_csv(\"Finalmaps.csv\",index=None,header=None)\n",
    "\n",
    "g1=pd.read_csv(\"./Finalmaps.csv\",index_col=None)\n",
    "h6=helix['value'].to_numpy()\n",
    "h6=np.reshape(h6, (50, 1)) # C-like index ordering\n",
    "#print(h6)"
   ]
  },
  {
   "cell_type": "markdown",
   "id": "fe24a22f",
   "metadata": {},
   "source": [
    "## HeatMap"
   ]
  },
  {
   "cell_type": "code",
   "execution_count": null,
   "id": "26f72457",
   "metadata": {},
   "outputs": [],
   "source": [
    "plt.figure(figsize=(50,50))\n",
    "\n",
    "ax=sns.heatmap(h6, annot=True, cmap=\"coolwarm\", yticklabels=helix['0']).set_title('co-relate')\n",
    "plt.tight_layout()\n",
    "plt.show()"
   ]
  },
  {
   "cell_type": "code",
   "execution_count": null,
   "id": "ee473475",
   "metadata": {},
   "outputs": [],
   "source": [
    "sns.heatmap(pd.DataFrame(claf_report).iloc[:-1, :].T, annot=True)"
   ]
  },
  {
   "cell_type": "markdown",
   "id": "5ffc5f4d",
   "metadata": {},
   "source": [
    "### Saving the Model"
   ]
  },
  {
   "cell_type": "code",
   "execution_count": null,
   "id": "d6dc1386",
   "metadata": {},
   "outputs": [],
   "source": [
    "patho=r'./models'\n",
    "joblib.dump(model, (os.path.join(patho,r''+'model_joblib_svm_rbf')))"
   ]
  },
  {
   "cell_type": "code",
   "execution_count": null,
   "id": "f65ea190",
   "metadata": {},
   "outputs": [],
   "source": [
    "plt.close()"
   ]
  },
  {
   "cell_type": "code",
   "execution_count": null,
   "id": "14538455",
   "metadata": {},
   "outputs": [],
   "source": []
  },
  {
   "cell_type": "code",
   "execution_count": null,
   "id": "93288581",
   "metadata": {},
   "outputs": [],
   "source": [
    "metrics.plot_confusion_matrix(model, x_train, y_train, cmap=plt.cm.Blues, display_labels=['Not engaged', 'Engaged'])"
   ]
  },
  {
   "cell_type": "code",
   "execution_count": null,
   "id": "2a2a2b63",
   "metadata": {},
   "outputs": [],
   "source": [
    "metrics.plot_confusion_matrix(model, x_train, y_train, cmap=plt.cm.Blues, display_labels=['Not engaged', 'Engaged'], normalize='true')"
   ]
  },
  {
   "cell_type": "code",
   "execution_count": null,
   "id": "2cbbf7a7",
   "metadata": {},
   "outputs": [],
   "source": []
  }
 ],
 "metadata": {
  "kernelspec": {
   "display_name": "Python 3",
   "language": "python",
   "name": "python3"
  },
  "language_info": {
   "codemirror_mode": {
    "name": "ipython",
    "version": 3
   },
   "file_extension": ".py",
   "mimetype": "text/x-python",
   "name": "python",
   "nbconvert_exporter": "python",
   "pygments_lexer": "ipython3",
   "version": "3.8.5"
  }
 },
 "nbformat": 4,
 "nbformat_minor": 5
}
