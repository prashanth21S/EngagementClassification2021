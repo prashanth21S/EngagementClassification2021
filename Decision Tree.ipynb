{
 "cells": [
  {
   "cell_type": "code",
   "execution_count": 1,
   "id": "e95d88f8",
   "metadata": {},
   "outputs": [],
   "source": [
    "import pandas as pd\n",
    "import numpy as np\n",
    "import matplotlib.pyplot as plt\n",
    "import joblib\n",
    "#from sklearn.externals import joblib\n",
    "from sklearn import tree\n",
    "from sklearn import metrics\n",
    "import os\n",
    "from sklearn.model_selection import cross_val_score"
   ]
  },
  {
   "cell_type": "code",
   "execution_count": 2,
   "id": "46a2b3db",
   "metadata": {},
   "outputs": [],
   "source": [
    "df1=pd.read_csv(\"./processed/training/engaged.csv\")\n",
    "df2=pd.read_csv(\"./processed/training/notEngaged.csv\")\n",
    "dff=pd.read_csv(\"./TopFeatures.csv\")"
   ]
  },
  {
   "cell_type": "code",
   "execution_count": 3,
   "id": "fb940e24",
   "metadata": {},
   "outputs": [],
   "source": [
    "dft=pd.concat([df1,df2])"
   ]
  },
  {
   "cell_type": "code",
   "execution_count": 4,
   "id": "4b57ec1d",
   "metadata": {},
   "outputs": [],
   "source": [
    "feat=dff.to_numpy()\n",
    "feat=feat.reshape(-1)"
   ]
  },
  {
   "cell_type": "code",
   "execution_count": 5,
   "id": "e72c584b",
   "metadata": {},
   "outputs": [],
   "source": [
    "y_train=dft[\"Result\"]\n",
    "x_train=dft.drop(\"Result\",axis=1)\n",
    "x_train=x_train[feat]"
   ]
  },
  {
   "cell_type": "code",
   "execution_count": 6,
   "id": "bb499b1b",
   "metadata": {},
   "outputs": [],
   "source": [
    "model = tree.DecisionTreeClassifier()"
   ]
  },
  {
   "cell_type": "code",
   "execution_count": 7,
   "id": "603b2aec",
   "metadata": {},
   "outputs": [],
   "source": [
    "avg_score=cross_val_score(model,x_train, y_train, cv=5)"
   ]
  },
  {
   "cell_type": "code",
   "execution_count": 8,
   "id": "38d5ae36",
   "metadata": {},
   "outputs": [
    {
     "name": "stdout",
     "output_type": "stream",
     "text": [
      "[0.58399456 0.5703922  0.58467468 0.71321696 0.70754931]\n",
      "0.6319655406937204\n"
     ]
    }
   ],
   "source": [
    "print(avg_score)\n",
    "print(sum(avg_score)/5)"
   ]
  },
  {
   "cell_type": "code",
   "execution_count": 9,
   "id": "224952e4",
   "metadata": {},
   "outputs": [],
   "source": [
    "model = model.fit(x_train, y_train)"
   ]
  },
  {
   "cell_type": "code",
   "execution_count": 10,
   "id": "ac633b6b",
   "metadata": {},
   "outputs": [
    {
     "data": {
      "text/plain": [
       "['./models/model_joblib_decision_tree']"
      ]
     },
     "execution_count": 10,
     "metadata": {},
     "output_type": "execute_result"
    }
   ],
   "source": [
    "patho=r'./models'\n",
    "joblib.dump(model, (os.path.join(patho,r''+'model_joblib_decision_tree')))"
   ]
  }
 ],
 "metadata": {
  "kernelspec": {
   "display_name": "Python 3",
   "language": "python",
   "name": "python3"
  },
  "language_info": {
   "codemirror_mode": {
    "name": "ipython",
    "version": 3
   },
   "file_extension": ".py",
   "mimetype": "text/x-python",
   "name": "python",
   "nbconvert_exporter": "python",
   "pygments_lexer": "ipython3",
   "version": "3.8.5"
  }
 },
 "nbformat": 4,
 "nbformat_minor": 5
}
