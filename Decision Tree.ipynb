{
 "cells": [
  {
   "cell_type": "code",
   "execution_count": 65,
   "metadata": {},
   "outputs": [],
   "source": [
    "import pandas as pd\n",
    "import numpy as np\n",
    "import matplotlib.pyplot as plt\n",
    "import joblib\n",
    "#from sklearn.externals import joblib\n",
    "from sklearn import tree\n",
    "from sklearn import metrics"
   ]
  },
  {
   "cell_type": "code",
   "execution_count": 66,
   "metadata": {},
   "outputs": [],
   "source": [
    "df1=pd.read_csv(\"engaged.csv\")\n",
    "df2=pd.read_csv(\"notEngaged.csv\")"
   ]
  },
  {
   "cell_type": "code",
   "execution_count": 67,
   "metadata": {},
   "outputs": [
    {
     "name": "stderr",
     "output_type": "stream",
     "text": [
      "<ipython-input-67-6b18b9b43b35>:1: FutureWarning: Sorting because non-concatenation axis is not aligned. A future version\n",
      "of pandas will change to not sort by default.\n",
      "\n",
      "To accept the future behavior, pass 'sort=False'.\n",
      "\n",
      "To retain the current behavior and silence the warning, pass 'sort=True'.\n",
      "\n",
      "  dft=pd.concat([df1,df2])\n"
     ]
    }
   ],
   "source": [
    "dft=pd.concat([df1,df2])"
   ]
  },
  {
   "cell_type": "code",
   "execution_count": 68,
   "metadata": {},
   "outputs": [],
   "source": [
    "y_train=dft[\"Result\"]\n",
    "x_train=dft.drop(\"Result\",axis=1)"
   ]
  },
  {
   "cell_type": "code",
   "execution_count": 69,
   "metadata": {},
   "outputs": [],
   "source": [
    "model = tree.DecisionTreeClassifier()\n",
    "m1 = model.fit(x_train, y_train)\n"
   ]
  },
  {
   "cell_type": "code",
   "execution_count": 70,
   "metadata": {},
   "outputs": [
    {
     "data": {
      "text/plain": [
       "['model_joblib_decision_tree']"
      ]
     },
     "execution_count": 70,
     "metadata": {},
     "output_type": "execute_result"
    }
   ],
   "source": [
    "joblib.dump(model, 'model_joblib_decision_tree')"
   ]
  },
  {
   "cell_type": "code",
   "execution_count": 71,
   "metadata": {},
   "outputs": [],
   "source": [
    "mj = joblib.load('model_joblib_decision_tree')"
   ]
  },
  {
   "cell_type": "code",
   "execution_count": 72,
   "metadata": {},
   "outputs": [],
   "source": [
    "y_pred = mj.predict(x_train)"
   ]
  },
  {
   "cell_type": "code",
   "execution_count": 73,
   "metadata": {},
   "outputs": [],
   "source": [
    "count=0"
   ]
  },
  {
   "cell_type": "code",
   "execution_count": 74,
   "metadata": {},
   "outputs": [],
   "source": [
    "y_train=y_train.to_numpy()"
   ]
  },
  {
   "cell_type": "code",
   "execution_count": 75,
   "metadata": {},
   "outputs": [],
   "source": [
    "for i in range(len(y_pred)):\n",
    "    if(y_pred[i]==y_train[i]):\n",
    "        count=count+1"
   ]
  },
  {
   "cell_type": "code",
   "execution_count": 76,
   "metadata": {},
   "outputs": [
    {
     "name": "stdout",
     "output_type": "stream",
     "text": [
      "1.0\n"
     ]
    }
   ],
   "source": [
    "print(count/len(y_pred))"
   ]
  },
  {
   "cell_type": "code",
   "execution_count": 77,
   "metadata": {},
   "outputs": [
    {
     "data": {
      "text/plain": [
       "[Text(193.87069672131148, 209.6742857142857, 'X[550] <= 2.366\\ngini = 0.494\\nsamples = 21866\\nvalue = [9693, 12173]'),\n",
       " Text(93.70512295081969, 194.14285714285714, 'X[444] <= 617.0\\ngini = 0.286\\nsamples = 12150\\nvalue = [2102, 10048]'),\n",
       " Text(90.04610655737706, 178.61142857142858, 'X[521] <= -0.997\\ngini = 0.099\\nsamples = 10604\\nvalue = [556, 10048]'),\n",
       " Text(34.30327868852459, 163.07999999999998, 'X[34] <= 0.715\\ngini = 0.499\\nsamples = 633\\nvalue = [306, 327]'),\n",
       " Text(17.38032786885246, 147.54857142857142, 'X[542] <= -1.45\\ngini = 0.217\\nsamples = 340\\nvalue = [42, 298]'),\n",
       " Text(7.318032786885246, 132.01714285714286, 'X[183] <= 678.1\\ngini = 0.266\\nsamples = 38\\nvalue = [32, 6]'),\n",
       " Text(3.659016393442623, 116.48571428571428, 'gini = 0.0\\nsamples = 6\\nvalue = [0, 6]'),\n",
       " Text(10.97704918032787, 116.48571428571428, 'gini = 0.0\\nsamples = 32\\nvalue = [32, 0]'),\n",
       " Text(27.442622950819676, 132.01714285714286, 'X[542] <= -1.022\\ngini = 0.064\\nsamples = 302\\nvalue = [10, 292]'),\n",
       " Text(18.295081967213115, 116.48571428571428, 'X[11] <= 0.43\\ngini = 0.375\\nsamples = 32\\nvalue = [8, 24]'),\n",
       " Text(14.636065573770493, 100.9542857142857, 'X[525] <= -0.081\\ngini = 0.32\\nsamples = 10\\nvalue = [8, 2]'),\n",
       " Text(10.97704918032787, 85.42285714285714, 'gini = 0.0\\nsamples = 2\\nvalue = [0, 2]'),\n",
       " Text(18.295081967213115, 85.42285714285714, 'gini = 0.0\\nsamples = 8\\nvalue = [8, 0]'),\n",
       " Text(21.95409836065574, 100.9542857142857, 'gini = 0.0\\nsamples = 22\\nvalue = [0, 22]'),\n",
       " Text(36.59016393442623, 116.48571428571428, 'X[13] <= 0.025\\ngini = 0.015\\nsamples = 270\\nvalue = [2, 268]'),\n",
       " Text(29.272131147540986, 100.9542857142857, 'X[553] <= -0.003\\ngini = 0.007\\nsamples = 266\\nvalue = [1, 265]'),\n",
       " Text(25.613114754098362, 85.42285714285714, 'gini = 0.0\\nsamples = 259\\nvalue = [0, 259]'),\n",
       " Text(32.93114754098361, 85.42285714285714, 'X[366] <= 577.6\\ngini = 0.245\\nsamples = 7\\nvalue = [1, 6]'),\n",
       " Text(29.272131147540986, 69.89142857142858, 'gini = 0.0\\nsamples = 6\\nvalue = [0, 6]'),\n",
       " Text(36.59016393442623, 69.89142857142858, 'gini = 0.0\\nsamples = 1\\nvalue = [1, 0]'),\n",
       " Text(43.90819672131148, 100.9542857142857, 'X[682] <= 255.05\\ngini = 0.375\\nsamples = 4\\nvalue = [1, 3]'),\n",
       " Text(40.24918032786886, 85.42285714285714, 'gini = 0.0\\nsamples = 3\\nvalue = [0, 3]'),\n",
       " Text(47.567213114754104, 85.42285714285714, 'gini = 0.0\\nsamples = 1\\nvalue = [1, 0]'),\n",
       " Text(51.226229508196724, 147.54857142857142, 'X[664] <= 322.9\\ngini = 0.178\\nsamples = 293\\nvalue = [264, 29]'),\n",
       " Text(47.567213114754104, 132.01714285714286, 'X[235] <= 603.45\\ngini = 0.05\\nsamples = 271\\nvalue = [264, 7]'),\n",
       " Text(43.90819672131148, 116.48571428571428, 'gini = 0.0\\nsamples = 7\\nvalue = [0, 7]'),\n",
       " Text(51.226229508196724, 116.48571428571428, 'gini = 0.0\\nsamples = 264\\nvalue = [264, 0]'),\n",
       " Text(54.88524590163935, 132.01714285714286, 'gini = 0.0\\nsamples = 22\\nvalue = [0, 22]'),\n",
       " Text(145.78893442622953, 163.07999999999998, 'X[556] <= 3.444\\ngini = 0.049\\nsamples = 9971\\nvalue = [250, 9721]'),\n",
       " Text(108.62704918032787, 147.54857142857142, 'X[33] <= 0.5\\ngini = 0.02\\nsamples = 9289\\nvalue = [95, 9194]'),\n",
       " Text(81.8704918032787, 132.01714285714286, 'X[542] <= -1.58\\ngini = 0.009\\nsamples = 8653\\nvalue = [39, 8614]'),\n",
       " Text(65.86229508196722, 116.48571428571428, 'X[556] <= 1.861\\ngini = 0.069\\nsamples = 839\\nvalue = [30, 809]'),\n",
       " Text(58.54426229508197, 100.9542857142857, 'X[16] <= 0.5\\ngini = 0.027\\nsamples = 810\\nvalue = [11, 799]'),\n",
       " Text(54.88524590163935, 85.42285714285714, 'X[569] <= -0.259\\ngini = 0.02\\nsamples = 807\\nvalue = [8, 799]'),\n",
       " Text(47.567213114754104, 69.89142857142858, 'X[198] <= 624.35\\ngini = 0.358\\nsamples = 30\\nvalue = [7, 23]'),\n",
       " Text(43.90819672131148, 54.359999999999985, 'gini = 0.0\\nsamples = 23\\nvalue = [0, 23]'),\n",
       " Text(51.226229508196724, 54.359999999999985, 'gini = 0.0\\nsamples = 7\\nvalue = [7, 0]'),\n",
       " Text(62.20327868852459, 69.89142857142858, 'X[539] <= 1.549\\ngini = 0.003\\nsamples = 777\\nvalue = [1, 776]'),\n",
       " Text(58.54426229508197, 54.359999999999985, 'gini = 0.0\\nsamples = 776\\nvalue = [0, 776]'),\n",
       " Text(65.86229508196722, 54.359999999999985, 'gini = 0.0\\nsamples = 1\\nvalue = [1, 0]'),\n",
       " Text(62.20327868852459, 85.42285714285714, 'gini = 0.0\\nsamples = 3\\nvalue = [3, 0]'),\n",
       " Text(73.18032786885246, 100.9542857142857, 'X[9] <= 0.26\\ngini = 0.452\\nsamples = 29\\nvalue = [19, 10]'),\n",
       " Text(69.52131147540985, 85.42285714285714, 'gini = 0.0\\nsamples = 19\\nvalue = [19, 0]'),\n",
       " Text(76.83934426229509, 85.42285714285714, 'gini = 0.0\\nsamples = 10\\nvalue = [0, 10]'),\n",
       " Text(97.87868852459017, 116.48571428571428, 'X[559] <= -13.22\\ngini = 0.002\\nsamples = 7814\\nvalue = [9, 7805]'),\n",
       " Text(87.81639344262295, 100.9542857142857, 'X[477] <= 250.35\\ngini = 0.375\\nsamples = 8\\nvalue = [2, 6]'),\n",
       " Text(84.15737704918034, 85.42285714285714, 'gini = 0.0\\nsamples = 6\\nvalue = [0, 6]'),\n",
       " Text(91.47540983606558, 85.42285714285714, 'gini = 0.0\\nsamples = 2\\nvalue = [2, 0]'),\n",
       " Text(107.94098360655738, 100.9542857142857, 'X[521] <= -0.997\\ngini = 0.002\\nsamples = 7806\\nvalue = [7, 7799]'),\n",
       " Text(98.79344262295082, 85.42285714285714, 'X[376] <= 576.35\\ngini = 0.245\\nsamples = 7\\nvalue = [1, 6]'),\n",
       " Text(95.13442622950821, 69.89142857142858, 'gini = 0.0\\nsamples = 1\\nvalue = [1, 0]'),\n",
       " Text(102.45245901639345, 69.89142857142858, 'gini = 0.0\\nsamples = 6\\nvalue = [0, 6]'),\n",
       " Text(117.08852459016394, 85.42285714285714, 'X[542] <= -1.355\\ngini = 0.002\\nsamples = 7799\\nvalue = [6, 7793]'),\n",
       " Text(109.7704918032787, 69.89142857142858, 'X[16] <= 0.5\\ngini = 0.026\\nsamples = 231\\nvalue = [3, 228]'),\n",
       " Text(106.11147540983607, 54.359999999999985, 'gini = 0.0\\nsamples = 228\\nvalue = [0, 228]'),\n",
       " Text(113.42950819672132, 54.359999999999985, 'gini = 0.0\\nsamples = 3\\nvalue = [3, 0]'),\n",
       " Text(124.40655737704918, 69.89142857142858, 'X[34] <= 1.035\\ngini = 0.001\\nsamples = 7568\\nvalue = [3, 7565]'),\n",
       " Text(120.74754098360657, 54.359999999999985, 'gini = 0.0\\nsamples = 7342\\nvalue = [0, 7342]'),\n",
       " Text(128.06557377049182, 54.359999999999985, 'X[521] <= -0.997\\ngini = 0.026\\nsamples = 226\\nvalue = [3, 223]'),\n",
       " Text(124.40655737704918, 38.82857142857142, 'gini = 0.0\\nsamples = 2\\nvalue = [2, 0]'),\n",
       " Text(131.72459016393444, 38.82857142857142, 'X[534] <= 1.158\\ngini = 0.009\\nsamples = 224\\nvalue = [1, 223]'),\n",
       " Text(128.06557377049182, 23.29714285714286, 'gini = 0.0\\nsamples = 222\\nvalue = [0, 222]'),\n",
       " Text(135.38360655737705, 23.29714285714286, 'X[189] <= 576.6\\ngini = 0.5\\nsamples = 2\\nvalue = [1, 1]'),\n",
       " Text(131.72459016393444, 7.765714285714267, 'gini = 0.0\\nsamples = 1\\nvalue = [0, 1]'),\n",
       " Text(139.0426229508197, 7.765714285714267, 'gini = 0.0\\nsamples = 1\\nvalue = [1, 0]'),\n",
       " Text(135.38360655737705, 132.01714285714286, 'X[31] <= 0.055\\ngini = 0.161\\nsamples = 636\\nvalue = [56, 580]'),\n",
       " Text(124.40655737704918, 116.48571428571428, 'X[230] <= 605.15\\ngini = 0.188\\nsamples = 57\\nvalue = [51, 6]'),\n",
       " Text(120.74754098360657, 100.9542857142857, 'gini = 0.0\\nsamples = 4\\nvalue = [0, 4]'),\n",
       " Text(128.06557377049182, 100.9542857142857, 'X[551] <= -0.048\\ngini = 0.073\\nsamples = 53\\nvalue = [51, 2]'),\n",
       " Text(124.40655737704918, 85.42285714285714, 'gini = 0.0\\nsamples = 51\\nvalue = [51, 0]'),\n",
       " Text(131.72459016393444, 85.42285714285714, 'gini = 0.0\\nsamples = 2\\nvalue = [0, 2]'),\n",
       " Text(146.36065573770492, 116.48571428571428, 'X[556] <= 2.739\\ngini = 0.017\\nsamples = 579\\nvalue = [5, 574]'),\n",
       " Text(142.7016393442623, 100.9542857142857, 'X[528] <= 14.665\\ngini = 0.01\\nsamples = 577\\nvalue = [3, 574]'),\n",
       " Text(139.0426229508197, 85.42285714285714, 'gini = 0.0\\nsamples = 551\\nvalue = [0, 551]'),\n",
       " Text(146.36065573770492, 85.42285714285714, 'X[542] <= -0.835\\ngini = 0.204\\nsamples = 26\\nvalue = [3, 23]'),\n",
       " Text(142.7016393442623, 69.89142857142858, 'gini = 0.0\\nsamples = 2\\nvalue = [2, 0]'),\n",
       " Text(150.01967213114756, 69.89142857142858, 'X[539] <= -0.978\\ngini = 0.08\\nsamples = 24\\nvalue = [1, 23]'),\n",
       " Text(146.36065573770492, 54.359999999999985, 'gini = 0.0\\nsamples = 23\\nvalue = [0, 23]'),\n",
       " Text(153.67868852459017, 54.359999999999985, 'gini = 0.0\\nsamples = 1\\nvalue = [1, 0]'),\n",
       " Text(150.01967213114756, 100.9542857142857, 'gini = 0.0\\nsamples = 2\\nvalue = [2, 0]'),\n",
       " Text(182.95081967213116, 147.54857142857142, 'X[542] <= -1.633\\ngini = 0.351\\nsamples = 682\\nvalue = [155, 527]'),\n",
       " Text(168.31475409836068, 132.01714285714286, 'X[9] <= 0.12\\ngini = 0.359\\nsamples = 175\\nvalue = [134, 41]'),\n",
       " Text(160.99672131147543, 116.48571428571428, 'X[211] <= 524.2\\ngini = 0.095\\nsamples = 140\\nvalue = [133, 7]'),\n",
       " Text(157.33770491803278, 100.9542857142857, 'gini = 0.0\\nsamples = 7\\nvalue = [0, 7]'),\n",
       " Text(164.65573770491804, 100.9542857142857, 'gini = 0.0\\nsamples = 133\\nvalue = [133, 0]'),\n",
       " Text(175.6327868852459, 116.48571428571428, 'X[559] <= -10.62\\ngini = 0.056\\nsamples = 35\\nvalue = [1, 34]'),\n",
       " Text(171.9737704918033, 100.9542857142857, 'gini = 0.0\\nsamples = 1\\nvalue = [1, 0]'),\n",
       " Text(179.29180327868855, 100.9542857142857, 'gini = 0.0\\nsamples = 34\\nvalue = [0, 34]'),\n",
       " Text(197.58688524590164, 132.01714285714286, 'X[33] <= 0.5\\ngini = 0.079\\nsamples = 507\\nvalue = [21, 486]'),\n",
       " Text(193.92786885245903, 116.48571428571428, 'X[34] <= 0.52\\ngini = 0.04\\nsamples = 496\\nvalue = [10, 486]'),\n",
       " Text(186.60983606557377, 100.9542857142857, 'X[550] <= 2.322\\ngini = 0.024\\nsamples = 486\\nvalue = [6, 480]'),\n",
       " Text(182.95081967213116, 85.42285714285714, 'X[551] <= -0.136\\ngini = 0.02\\nsamples = 485\\nvalue = [5, 480]'),\n",
       " Text(175.6327868852459, 69.89142857142858, 'X[190] <= 589.9\\ngini = 0.308\\nsamples = 21\\nvalue = [4, 17]'),\n",
       " Text(171.9737704918033, 54.359999999999985, 'gini = 0.0\\nsamples = 17\\nvalue = [0, 17]'),\n",
       " Text(179.29180327868855, 54.359999999999985, 'gini = 0.0\\nsamples = 4\\nvalue = [4, 0]'),\n",
       " Text(190.26885245901641, 69.89142857142858, 'X[560] <= -4.993\\ngini = 0.004\\nsamples = 464\\nvalue = [1, 463]'),\n",
       " Text(186.60983606557377, 54.359999999999985, 'X[72] <= 66.25\\ngini = 0.5\\nsamples = 2\\nvalue = [1, 1]'),\n",
       " Text(182.95081967213116, 38.82857142857142, 'gini = 0.0\\nsamples = 1\\nvalue = [0, 1]'),\n",
       " Text(190.26885245901641, 38.82857142857142, 'gini = 0.0\\nsamples = 1\\nvalue = [1, 0]'),\n",
       " Text(193.92786885245903, 54.359999999999985, 'gini = 0.0\\nsamples = 462\\nvalue = [0, 462]'),\n",
       " Text(190.26885245901641, 85.42285714285714, 'gini = 0.0\\nsamples = 1\\nvalue = [1, 0]'),\n",
       " Text(201.24590163934428, 100.9542857142857, 'X[640] <= 389.75\\ngini = 0.48\\nsamples = 10\\nvalue = [4, 6]'),\n",
       " Text(197.58688524590164, 85.42285714285714, 'gini = 0.0\\nsamples = 4\\nvalue = [4, 0]'),\n",
       " Text(204.9049180327869, 85.42285714285714, 'gini = 0.0\\nsamples = 6\\nvalue = [0, 6]'),\n",
       " Text(201.24590163934428, 116.48571428571428, 'gini = 0.0\\nsamples = 11\\nvalue = [11, 0]'),\n",
       " Text(97.3641393442623, 178.61142857142858, 'gini = 0.0\\nsamples = 1546\\nvalue = [1546, 0]'),\n",
       " Text(294.0362704918033, 194.14285714285714, 'X[20] <= 0.5\\ngini = 0.342\\nsamples = 9716\\nvalue = [7591, 2125]'),\n",
       " Text(278.88565573770495, 178.61142857142858, 'X[568] <= 0.131\\ngini = 0.117\\nsamples = 7902\\nvalue = [7410, 492]'),\n",
       " Text(266.8795081967213, 163.07999999999998, 'X[90] <= 66.7\\ngini = 0.061\\nsamples = 7630\\nvalue = [7388, 242]'),\n",
       " Text(263.2204918032787, 147.54857142857142, 'X[9] <= 0.305\\ngini = 0.045\\nsamples = 7561\\nvalue = [7388, 173]'),\n",
       " Text(250.18524590163935, 132.01714285714286, 'X[563] <= 0.089\\ngini = 0.03\\nsamples = 7494\\nvalue = [7381, 113]'),\n",
       " Text(235.09180327868853, 116.48571428571428, 'X[577] <= 422.5\\ngini = 0.024\\nsamples = 7469\\nvalue = [7377, 92]'),\n",
       " Text(215.88196721311476, 100.9542857142857, 'X[557] <= 2.73\\ngini = 0.004\\nsamples = 6974\\nvalue = [6960, 14]'),\n",
       " Text(212.22295081967215, 85.42285714285714, 'X[567] <= -0.259\\ngini = 0.003\\nsamples = 6970\\nvalue = [6960, 10]'),\n",
       " Text(204.9049180327869, 69.89142857142858, 'X[632] <= 363.95\\ngini = 0.5\\nsamples = 12\\nvalue = [6, 6]'),\n",
       " Text(201.24590163934428, 54.359999999999985, 'gini = 0.0\\nsamples = 6\\nvalue = [0, 6]'),\n",
       " Text(208.5639344262295, 54.359999999999985, 'gini = 0.0\\nsamples = 6\\nvalue = [6, 0]'),\n",
       " Text(219.5409836065574, 69.89142857142858, 'X[519] <= 0.25\\ngini = 0.001\\nsamples = 6958\\nvalue = [6954, 4]'),\n",
       " Text(215.88196721311476, 54.359999999999985, 'X[19] <= 0.495\\ngini = 0.001\\nsamples = 6957\\nvalue = [6954, 3]'),\n",
       " Text(212.22295081967215, 38.82857142857142, 'X[23] <= 0.985\\ngini = 0.001\\nsamples = 6956\\nvalue = [6954, 2]'),\n",
       " Text(208.5639344262295, 23.29714285714286, 'gini = 0.0\\nsamples = 6933\\nvalue = [6933, 0]'),\n",
       " Text(215.88196721311476, 23.29714285714286, 'X[158] <= -7.45\\ngini = 0.159\\nsamples = 23\\nvalue = [21, 2]'),\n",
       " Text(212.22295081967215, 7.765714285714267, 'gini = 0.0\\nsamples = 21\\nvalue = [21, 0]'),\n",
       " Text(219.5409836065574, 7.765714285714267, 'gini = 0.0\\nsamples = 2\\nvalue = [0, 2]'),\n",
       " Text(219.5409836065574, 38.82857142857142, 'gini = 0.0\\nsamples = 1\\nvalue = [0, 1]'),\n",
       " Text(223.20000000000002, 54.359999999999985, 'gini = 0.0\\nsamples = 1\\nvalue = [0, 1]'),\n",
       " Text(219.5409836065574, 85.42285714285714, 'gini = 0.0\\nsamples = 4\\nvalue = [0, 4]'),\n",
       " Text(254.3016393442623, 100.9542857142857, 'X[37] <= 79.85\\ngini = 0.265\\nsamples = 495\\nvalue = [417, 78]'),\n",
       " Text(241.49508196721314, 85.42285714285714, 'X[561] <= 0.0\\ngini = 0.042\\nsamples = 415\\nvalue = [406, 9]'),\n",
       " Text(234.17704918032788, 69.89142857142858, 'X[416] <= 312.25\\ngini = 0.005\\nsamples = 406\\nvalue = [405, 1]'),\n",
       " Text(230.51803278688527, 54.359999999999985, 'gini = 0.0\\nsamples = 1\\nvalue = [0, 1]'),\n",
       " Text(237.8360655737705, 54.359999999999985, 'gini = 0.0\\nsamples = 405\\nvalue = [405, 0]'),\n",
       " Text(248.81311475409836, 69.89142857142858, 'X[73] <= 62.45\\ngini = 0.198\\nsamples = 9\\nvalue = [1, 8]'),\n",
       " Text(245.15409836065575, 54.359999999999985, 'gini = 0.0\\nsamples = 8\\nvalue = [0, 8]'),\n",
       " Text(252.472131147541, 54.359999999999985, 'gini = 0.0\\nsamples = 1\\nvalue = [1, 0]'),\n",
       " Text(267.1081967213115, 85.42285714285714, 'X[187] <= 581.2\\ngini = 0.237\\nsamples = 80\\nvalue = [11, 69]'),\n",
       " Text(263.4491803278689, 69.89142857142858, 'X[307] <= -78.9\\ngini = 0.028\\nsamples = 70\\nvalue = [1, 69]'),\n",
       " Text(259.79016393442623, 54.359999999999985, 'gini = 0.0\\nsamples = 1\\nvalue = [1, 0]'),\n",
       " Text(267.1081967213115, 54.359999999999985, 'gini = 0.0\\nsamples = 69\\nvalue = [0, 69]'),\n",
       " Text(270.7672131147541, 69.89142857142858, 'gini = 0.0\\nsamples = 10\\nvalue = [10, 0]'),\n",
       " Text(265.27868852459017, 116.48571428571428, 'X[684] <= 369.5\\ngini = 0.269\\nsamples = 25\\nvalue = [4, 21]'),\n",
       " Text(261.6196721311476, 100.9542857142857, 'gini = 0.0\\nsamples = 21\\nvalue = [0, 21]'),\n",
       " Text(268.9377049180328, 100.9542857142857, 'gini = 0.0\\nsamples = 4\\nvalue = [4, 0]'),\n",
       " Text(276.25573770491803, 132.01714285714286, 'X[686] <= 344.9\\ngini = 0.187\\nsamples = 67\\nvalue = [7, 60]'),\n",
       " Text(272.59672131147545, 116.48571428571428, 'gini = 0.0\\nsamples = 60\\nvalue = [0, 60]'),\n",
       " Text(279.9147540983607, 116.48571428571428, 'gini = 0.0\\nsamples = 7\\nvalue = [7, 0]'),\n",
       " Text(270.53852459016395, 147.54857142857142, 'gini = 0.0\\nsamples = 69\\nvalue = [0, 69]'),\n",
       " Text(290.89180327868854, 163.07999999999998, 'X[667] <= 356.05\\ngini = 0.149\\nsamples = 272\\nvalue = [22, 250]'),\n",
       " Text(287.2327868852459, 147.54857142857142, 'X[497] <= 154.7\\ngini = 0.046\\nsamples = 256\\nvalue = [6, 250]'),\n",
       " Text(283.5737704918033, 132.01714285714286, 'gini = 0.0\\nsamples = 6\\nvalue = [6, 0]'),\n",
       " Text(290.89180327868854, 132.01714285714286, 'gini = 0.0\\nsamples = 250\\nvalue = [0, 250]'),\n",
       " Text(294.5508196721312, 147.54857142857142, 'gini = 0.0\\nsamples = 16\\nvalue = [16, 0]'),\n",
       " Text(309.18688524590164, 178.61142857142858, 'X[658] <= 103.45\\ngini = 0.18\\nsamples = 1814\\nvalue = [181, 1633]'),\n",
       " Text(305.52786885245905, 163.07999999999998, 'gini = 0.0\\nsamples = 75\\nvalue = [75, 0]'),\n",
       " Text(312.8459016393443, 163.07999999999998, 'X[542] <= -2.035\\ngini = 0.114\\nsamples = 1739\\nvalue = [106, 1633]'),\n",
       " Text(301.8688524590164, 147.54857142857142, 'X[577] <= 419.95\\ngini = 0.398\\nsamples = 95\\nvalue = [69, 26]'),\n",
       " Text(298.20983606557377, 132.01714285714286, 'gini = 0.0\\nsamples = 68\\nvalue = [68, 0]'),\n",
       " Text(305.52786885245905, 132.01714285714286, 'X[557] <= -3.145\\ngini = 0.071\\nsamples = 27\\nvalue = [1, 26]'),\n",
       " Text(301.8688524590164, 116.48571428571428, 'gini = 0.0\\nsamples = 26\\nvalue = [0, 26]'),\n",
       " Text(309.18688524590164, 116.48571428571428, 'gini = 0.0\\nsamples = 1\\nvalue = [1, 0]'),\n",
       " Text(323.82295081967214, 147.54857142857142, 'X[628] <= 537.55\\ngini = 0.044\\nsamples = 1644\\nvalue = [37, 1607]'),\n",
       " Text(320.1639344262295, 132.01714285714286, 'X[34] <= 2.01\\ngini = 0.015\\nsamples = 1619\\nvalue = [12, 1607]'),\n",
       " Text(316.5049180327869, 116.48571428571428, 'X[542] <= -1.769\\ngini = 0.012\\nsamples = 1617\\nvalue = [10, 1607]'),\n",
       " Text(309.18688524590164, 100.9542857142857, 'X[34] <= 0.94\\ngini = 0.32\\nsamples = 40\\nvalue = [8, 32]'),\n",
       " Text(305.52786885245905, 85.42285714285714, 'gini = 0.0\\nsamples = 32\\nvalue = [0, 32]'),\n",
       " Text(312.8459016393443, 85.42285714285714, 'gini = 0.0\\nsamples = 8\\nvalue = [8, 0]'),\n",
       " Text(323.82295081967214, 100.9542857142857, 'X[34] <= 1.345\\ngini = 0.003\\nsamples = 1577\\nvalue = [2, 1575]'),\n",
       " Text(320.1639344262295, 85.42285714285714, 'gini = 0.0\\nsamples = 1558\\nvalue = [0, 1558]'),\n",
       " Text(327.4819672131148, 85.42285714285714, 'X[129] <= 36.45\\ngini = 0.188\\nsamples = 19\\nvalue = [2, 17]'),\n",
       " Text(323.82295081967214, 69.89142857142858, 'gini = 0.0\\nsamples = 17\\nvalue = [0, 17]'),\n",
       " Text(331.1409836065574, 69.89142857142858, 'gini = 0.0\\nsamples = 2\\nvalue = [2, 0]'),\n",
       " Text(323.82295081967214, 116.48571428571428, 'gini = 0.0\\nsamples = 2\\nvalue = [2, 0]'),\n",
       " Text(327.4819672131148, 132.01714285714286, 'gini = 0.0\\nsamples = 25\\nvalue = [25, 0]')]"
      ]
     },
     "execution_count": 77,
     "metadata": {},
     "output_type": "execute_result"
    },
    {
     "data": {
      "image/png": "[encoded data removed]",
      "text/plain": [
       "<Figure size 432x288 with 1 Axes>"
      ]
     },
     "metadata": {
      "needs_background": "light"
     },
     "output_type": "display_data"
    }
   ],
   "source": [
    "tree.plot_tree(m1)"
   ]
  },
  {
   "cell_type": "code",
   "execution_count": 78,
   "metadata": {},
   "outputs": [
    {
     "name": "stdout",
     "output_type": "stream",
     "text": [
      "Accuracy: 1.0\n"
     ]
    }
   ],
   "source": [
    "print(\"Accuracy:\",metrics.accuracy_score(y_pred, y_train))"
   ]
  }
 ],
 "metadata": {
  "kernelspec": {
   "display_name": "Python 3",
   "language": "python",
   "name": "python3"
  },
  "language_info": {
   "codemirror_mode": {
    "name": "ipython",
    "version": 3
   },
   "file_extension": ".py",
   "mimetype": "text/x-python",
   "name": "python",
   "nbconvert_exporter": "python",
   "pygments_lexer": "ipython3",
   "version": "3.8.5"
  }
 },
 "nbformat": 4,
 "nbformat_minor": 5
}
