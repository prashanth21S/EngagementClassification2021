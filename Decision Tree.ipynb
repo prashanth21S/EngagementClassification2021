{
 "cells": [
  {
   "cell_type": "code",
   "execution_count": 1,
   "id": "e95d88f8",
   "metadata": {},
   "outputs": [],
   "source": [
    "import pandas as pd\n",
    "import numpy as np\n",
    "import matplotlib.pyplot as plt\n",
    "import joblib\n",
    "#from sklearn.externals import joblib\n",
    "from sklearn import tree\n",
    "from sklearn import metrics\n",
    "import os"
   ]
  },
  {
   "cell_type": "code",
   "execution_count": 2,
   "id": "46a2b3db",
   "metadata": {},
   "outputs": [],
   "source": [
    "df1=pd.read_csv(\"./processed/training/engaged.csv\")\n",
    "df2=pd.read_csv(\"./processed/training/notEngaged.csv\")"
   ]
  },
  {
   "cell_type": "code",
   "execution_count": 3,
   "id": "fb940e24",
   "metadata": {},
   "outputs": [],
   "source": [
    "dft=pd.concat([df1,df2])"
   ]
  },
  {
   "cell_type": "code",
   "execution_count": 4,
   "id": "e72c584b",
   "metadata": {},
   "outputs": [],
   "source": [
    "y_train=dft[\"Result\"]\n",
    "x_train=dft.drop(\"Result\",axis=1)"
   ]
  },
  {
   "cell_type": "code",
   "execution_count": 5,
   "id": "bb499b1b",
   "metadata": {},
   "outputs": [],
   "source": [
    "model = tree.DecisionTreeClassifier()\n",
    "m1 = model.fit(x_train, y_train)"
   ]
  },
  {
   "cell_type": "code",
   "execution_count": 6,
   "id": "ac633b6b",
   "metadata": {},
   "outputs": [
    {
     "data": {
      "text/plain": [
       "['./models/model_joblib_decision_tree']"
      ]
     },
     "execution_count": 6,
     "metadata": {},
     "output_type": "execute_result"
    }
   ],
   "source": [
    "patho=r'./models'\n",
    "joblib.dump(model, (os.path.join(patho,r''+'model_joblib_decision_tree')))"
   ]
  },
  {
   "cell_type": "code",
   "execution_count": 7,
   "id": "ca5b4357",
   "metadata": {},
   "outputs": [],
   "source": [
    "mj = joblib.load('./models/model_joblib_decision_tree')"
   ]
  },
  {
   "cell_type": "code",
   "execution_count": 8,
   "id": "db118a50",
   "metadata": {},
   "outputs": [],
   "source": [
    "y_pred = mj.predict(x_train)"
   ]
  },
  {
   "cell_type": "code",
   "execution_count": 9,
   "id": "7ae6002c",
   "metadata": {},
   "outputs": [],
   "source": [
    "count=0"
   ]
  },
  {
   "cell_type": "code",
   "execution_count": 10,
   "id": "4a9948c1",
   "metadata": {},
   "outputs": [],
   "source": [
    "y_train=y_train.to_numpy()"
   ]
  },
  {
   "cell_type": "code",
   "execution_count": 11,
   "id": "5419878f",
   "metadata": {},
   "outputs": [],
   "source": [
    "for i in range(len(y_pred)):\n",
    "    if(y_pred[i]==y_train[i]):\n",
    "        count=count+1"
   ]
  },
  {
   "cell_type": "code",
   "execution_count": 12,
   "id": "adc633a7",
   "metadata": {},
   "outputs": [
    {
     "name": "stdout",
     "output_type": "stream",
     "text": [
      "1.0\n"
     ]
    }
   ],
   "source": [
    "print(count/len(y_pred))"
   ]
  },
  {
   "cell_type": "code",
   "execution_count": 13,
   "id": "b193c4c8",
   "metadata": {},
   "outputs": [
    {
     "data": {
      "text/plain": [
       "[Text(195.68750000000003, 209.6742857142857, 'X[643] <= 2.366\\ngini = 0.494\\nsamples = 21866\\nvalue = [12173, 9693]'),\n",
       " Text(96.04464285714286, 194.14285714285714, 'X[587] <= 824.4\\ngini = 0.286\\nsamples = 12150\\nvalue = [10048, 2102]'),\n",
       " Text(92.50178571428572, 178.61142857142858, 'X[2] <= -0.997\\ngini = 0.099\\nsamples = 10604\\nvalue = [10048, 556]'),\n",
       " Text(33.214285714285715, 163.07999999999998, 'X[690] <= 0.715\\ngini = 0.499\\nsamples = 633\\nvalue = [327, 306]'),\n",
       " Text(16.82857142857143, 147.54857142857142, 'X[662] <= -1.45\\ngini = 0.217\\nsamples = 340\\nvalue = [298, 42]'),\n",
       " Text(7.085714285714286, 132.01714285714286, 'X[52] <= 403.65\\ngini = 0.266\\nsamples = 38\\nvalue = [6, 32]'),\n",
       " Text(3.542857142857143, 116.48571428571428, 'gini = 0.0\\nsamples = 32\\nvalue = [0, 32]'),\n",
       " Text(10.62857142857143, 116.48571428571428, 'gini = 0.0\\nsamples = 6\\nvalue = [6, 0]'),\n",
       " Text(26.571428571428573, 132.01714285714286, 'X[662] <= -1.022\\ngini = 0.064\\nsamples = 302\\nvalue = [292, 10]'),\n",
       " Text(17.714285714285715, 116.48571428571428, 'X[679] <= 0.43\\ngini = 0.375\\nsamples = 32\\nvalue = [24, 8]'),\n",
       " Text(14.171428571428573, 100.9542857142857, 'X[388] <= 239.3\\ngini = 0.32\\nsamples = 10\\nvalue = [2, 8]'),\n",
       " Text(10.62857142857143, 85.42285714285714, 'gini = 0.0\\nsamples = 2\\nvalue = [2, 0]'),\n",
       " Text(17.714285714285715, 85.42285714285714, 'gini = 0.0\\nsamples = 8\\nvalue = [0, 8]'),\n",
       " Text(21.25714285714286, 100.9542857142857, 'gini = 0.0\\nsamples = 22\\nvalue = [22, 0]'),\n",
       " Text(35.42857142857143, 116.48571428571428, 'X[657] <= -2.684\\ngini = 0.015\\nsamples = 270\\nvalue = [268, 2]'),\n",
       " Text(28.342857142857145, 100.9542857142857, 'X[128] <= 14.4\\ngini = 0.375\\nsamples = 4\\nvalue = [3, 1]'),\n",
       " Text(24.8, 85.42285714285714, 'gini = 0.0\\nsamples = 1\\nvalue = [0, 1]'),\n",
       " Text(31.88571428571429, 85.42285714285714, 'gini = 0.0\\nsamples = 3\\nvalue = [3, 0]'),\n",
       " Text(42.51428571428572, 100.9542857142857, 'X[672] <= -0.003\\ngini = 0.007\\nsamples = 266\\nvalue = [265, 1]'),\n",
       " Text(38.971428571428575, 85.42285714285714, 'gini = 0.0\\nsamples = 258\\nvalue = [258, 0]'),\n",
       " Text(46.057142857142864, 85.42285714285714, 'X[625] <= 619.5\\ngini = 0.219\\nsamples = 8\\nvalue = [7, 1]'),\n",
       " Text(42.51428571428572, 69.89142857142858, 'gini = 0.0\\nsamples = 7\\nvalue = [7, 0]'),\n",
       " Text(49.6, 69.89142857142858, 'gini = 0.0\\nsamples = 1\\nvalue = [0, 1]'),\n",
       " Text(49.6, 147.54857142857142, 'X[362] <= 277.7\\ngini = 0.178\\nsamples = 293\\nvalue = [29, 264]'),\n",
       " Text(46.057142857142864, 132.01714285714286, 'X[577] <= 660.0\\ngini = 0.05\\nsamples = 271\\nvalue = [7, 264]'),\n",
       " Text(42.51428571428572, 116.48571428571428, 'gini = 0.0\\nsamples = 7\\nvalue = [7, 0]'),\n",
       " Text(49.6, 116.48571428571428, 'gini = 0.0\\nsamples = 264\\nvalue = [0, 264]'),\n",
       " Text(53.142857142857146, 132.01714285714286, 'gini = 0.0\\nsamples = 22\\nvalue = [22, 0]'),\n",
       " Text(151.78928571428574, 163.07999999999998, 'X[645] <= 3.444\\ngini = 0.049\\nsamples = 9971\\nvalue = [9721, 250]'),\n",
       " Text(115.80714285714286, 147.54857142857142, 'X[708] <= 0.5\\ngini = 0.02\\nsamples = 9289\\nvalue = [9194, 95]'),\n",
       " Text(89.9, 132.01714285714286, 'X[662] <= -1.58\\ngini = 0.009\\nsamples = 8653\\nvalue = [8614, 39]'),\n",
       " Text(74.4, 116.48571428571428, 'X[645] <= 1.861\\ngini = 0.069\\nsamples = 839\\nvalue = [809, 30]'),\n",
       " Text(67.31428571428572, 100.9542857142857, 'X[699] <= 0.5\\ngini = 0.027\\nsamples = 810\\nvalue = [799, 11]'),\n",
       " Text(63.77142857142858, 85.42285714285714, 'X[293] <= -0.259\\ngini = 0.02\\nsamples = 807\\nvalue = [799, 8]'),\n",
       " Text(56.68571428571429, 69.89142857142858, 'X[588] <= 645.9\\ngini = 0.358\\nsamples = 30\\nvalue = [23, 7]'),\n",
       " Text(53.142857142857146, 54.359999999999985, 'gini = 0.0\\nsamples = 23\\nvalue = [23, 0]'),\n",
       " Text(60.228571428571435, 54.359999999999985, 'gini = 0.0\\nsamples = 7\\nvalue = [0, 7]'),\n",
       " Text(70.85714285714286, 69.89142857142858, 'X[642] <= 1.549\\ngini = 0.003\\nsamples = 777\\nvalue = [776, 1]'),\n",
       " Text(67.31428571428572, 54.359999999999985, 'gini = 0.0\\nsamples = 776\\nvalue = [776, 0]'),\n",
       " Text(74.4, 54.359999999999985, 'gini = 0.0\\nsamples = 1\\nvalue = [0, 1]'),\n",
       " Text(70.85714285714286, 85.42285714285714, 'gini = 0.0\\nsamples = 3\\nvalue = [0, 3]'),\n",
       " Text(81.4857142857143, 100.9542857142857, 'X[0] <= 0.047\\ngini = 0.452\\nsamples = 29\\nvalue = [10, 19]'),\n",
       " Text(77.94285714285715, 85.42285714285714, 'gini = 0.0\\nsamples = 19\\nvalue = [0, 19]'),\n",
       " Text(85.02857142857144, 85.42285714285714, 'gini = 0.0\\nsamples = 10\\nvalue = [10, 0]'),\n",
       " Text(105.4, 116.48571428571428, 'X[648] <= -13.22\\ngini = 0.002\\nsamples = 7814\\nvalue = [7805, 9]'),\n",
       " Text(95.65714285714286, 100.9542857142857, 'X[338] <= 392.0\\ngini = 0.375\\nsamples = 8\\nvalue = [6, 2]'),\n",
       " Text(92.11428571428573, 85.42285714285714, 'gini = 0.0\\nsamples = 2\\nvalue = [0, 2]'),\n",
       " Text(99.2, 85.42285714285714, 'gini = 0.0\\nsamples = 6\\nvalue = [6, 0]'),\n",
       " Text(115.14285714285715, 100.9542857142857, 'X[2] <= -0.997\\ngini = 0.002\\nsamples = 7806\\nvalue = [7799, 7]'),\n",
       " Text(106.28571428571429, 85.42285714285714, 'X[416] <= 308.95\\ngini = 0.245\\nsamples = 7\\nvalue = [6, 1]'),\n",
       " Text(102.74285714285715, 69.89142857142858, 'gini = 0.0\\nsamples = 1\\nvalue = [0, 1]'),\n",
       " Text(109.82857142857144, 69.89142857142858, 'gini = 0.0\\nsamples = 6\\nvalue = [6, 0]'),\n",
       " Text(124.00000000000001, 85.42285714285714, 'X[662] <= -1.355\\ngini = 0.002\\nsamples = 7799\\nvalue = [7793, 6]'),\n",
       " Text(116.91428571428573, 69.89142857142858, 'X[699] <= 0.5\\ngini = 0.026\\nsamples = 231\\nvalue = [228, 3]'),\n",
       " Text(113.37142857142858, 54.359999999999985, 'gini = 0.0\\nsamples = 228\\nvalue = [228, 0]'),\n",
       " Text(120.45714285714287, 54.359999999999985, 'gini = 0.0\\nsamples = 3\\nvalue = [0, 3]'),\n",
       " Text(131.0857142857143, 69.89142857142858, 'X[690] <= 1.035\\ngini = 0.001\\nsamples = 7568\\nvalue = [7565, 3]'),\n",
       " Text(127.54285714285716, 54.359999999999985, 'gini = 0.0\\nsamples = 7342\\nvalue = [7342, 0]'),\n",
       " Text(134.62857142857143, 54.359999999999985, 'X[2] <= -0.997\\ngini = 0.026\\nsamples = 226\\nvalue = [223, 3]'),\n",
       " Text(131.0857142857143, 38.82857142857142, 'gini = 0.0\\nsamples = 2\\nvalue = [0, 2]'),\n",
       " Text(138.17142857142858, 38.82857142857142, 'X[655] <= 1.158\\ngini = 0.009\\nsamples = 224\\nvalue = [223, 1]'),\n",
       " Text(134.62857142857143, 23.29714285714286, 'gini = 0.0\\nsamples = 222\\nvalue = [222, 0]'),\n",
       " Text(141.71428571428572, 23.29714285714286, 'X[203] <= -28.15\\ngini = 0.5\\nsamples = 2\\nvalue = [1, 1]'),\n",
       " Text(138.17142857142858, 7.765714285714267, 'gini = 0.0\\nsamples = 1\\nvalue = [1, 0]'),\n",
       " Text(145.25714285714287, 7.765714285714267, 'gini = 0.0\\nsamples = 1\\nvalue = [0, 1]'),\n",
       " Text(141.71428571428572, 132.01714285714286, 'X[689] <= 0.055\\ngini = 0.161\\nsamples = 636\\nvalue = [580, 56]'),\n",
       " Text(131.0857142857143, 116.48571428571428, 'X[590] <= 640.15\\ngini = 0.188\\nsamples = 57\\nvalue = [6, 51]'),\n",
       " Text(127.54285714285716, 100.9542857142857, 'gini = 0.0\\nsamples = 4\\nvalue = [4, 0]'),\n",
       " Text(134.62857142857143, 100.9542857142857, 'X[202] <= 29.5\\ngini = 0.073\\nsamples = 53\\nvalue = [2, 51]'),\n",
       " Text(131.0857142857143, 85.42285714285714, 'gini = 0.0\\nsamples = 51\\nvalue = [0, 51]'),\n",
       " Text(138.17142857142858, 85.42285714285714, 'gini = 0.0\\nsamples = 2\\nvalue = [2, 0]'),\n",
       " Text(152.34285714285716, 116.48571428571428, 'X[645] <= 2.739\\ngini = 0.017\\nsamples = 579\\nvalue = [574, 5]'),\n",
       " Text(148.8, 100.9542857142857, 'X[641] <= 14.665\\ngini = 0.01\\nsamples = 577\\nvalue = [574, 3]'),\n",
       " Text(145.25714285714287, 85.42285714285714, 'gini = 0.0\\nsamples = 551\\nvalue = [551, 0]'),\n",
       " Text(152.34285714285716, 85.42285714285714, 'X[662] <= -0.835\\ngini = 0.204\\nsamples = 26\\nvalue = [23, 3]'),\n",
       " Text(148.8, 69.89142857142858, 'gini = 0.0\\nsamples = 2\\nvalue = [0, 2]'),\n",
       " Text(155.8857142857143, 69.89142857142858, 'X[672] <= 0.015\\ngini = 0.08\\nsamples = 24\\nvalue = [23, 1]'),\n",
       " Text(152.34285714285716, 54.359999999999985, 'gini = 0.0\\nsamples = 23\\nvalue = [23, 0]'),\n",
       " Text(159.42857142857144, 54.359999999999985, 'gini = 0.0\\nsamples = 1\\nvalue = [0, 1]'),\n",
       " Text(155.8857142857143, 100.9542857142857, 'gini = 0.0\\nsamples = 2\\nvalue = [0, 2]'),\n",
       " Text(187.7714285714286, 147.54857142857142, 'X[662] <= -1.633\\ngini = 0.351\\nsamples = 682\\nvalue = [527, 155]'),\n",
       " Text(173.60000000000002, 132.01714285714286, 'X[678] <= 0.12\\ngini = 0.359\\nsamples = 175\\nvalue = [41, 134]'),\n",
       " Text(166.51428571428573, 116.48571428571428, 'X[510] <= 81.1\\ngini = 0.095\\nsamples = 140\\nvalue = [7, 133]'),\n",
       " Text(162.9714285714286, 100.9542857142857, 'gini = 0.0\\nsamples = 7\\nvalue = [7, 0]'),\n",
       " Text(170.05714285714288, 100.9542857142857, 'gini = 0.0\\nsamples = 133\\nvalue = [0, 133]'),\n",
       " Text(180.6857142857143, 116.48571428571428, 'X[647] <= 3.975\\ngini = 0.056\\nsamples = 35\\nvalue = [34, 1]'),\n",
       " Text(177.14285714285717, 100.9542857142857, 'gini = 0.0\\nsamples = 34\\nvalue = [34, 0]'),\n",
       " Text(184.22857142857146, 100.9542857142857, 'gini = 0.0\\nsamples = 1\\nvalue = [0, 1]'),\n",
       " Text(201.94285714285715, 132.01714285714286, 'X[708] <= 0.5\\ngini = 0.079\\nsamples = 507\\nvalue = [486, 21]'),\n",
       " Text(198.4, 116.48571428571428, 'X[690] <= 0.52\\ngini = 0.04\\nsamples = 496\\nvalue = [486, 10]'),\n",
       " Text(191.31428571428572, 100.9542857142857, 'X[643] <= 2.322\\ngini = 0.024\\nsamples = 486\\nvalue = [480, 6]'),\n",
       " Text(187.7714285714286, 85.42285714285714, 'X[670] <= -0.136\\ngini = 0.02\\nsamples = 485\\nvalue = [480, 5]'),\n",
       " Text(180.6857142857143, 69.89142857142858, 'X[607] <= 550.85\\ngini = 0.308\\nsamples = 21\\nvalue = [17, 4]'),\n",
       " Text(177.14285714285717, 54.359999999999985, 'gini = 0.0\\nsamples = 17\\nvalue = [17, 0]'),\n",
       " Text(184.22857142857146, 54.359999999999985, 'gini = 0.0\\nsamples = 4\\nvalue = [0, 4]'),\n",
       " Text(194.85714285714286, 69.89142857142858, 'X[649] <= -4.993\\ngini = 0.004\\nsamples = 464\\nvalue = [463, 1]'),\n",
       " Text(191.31428571428572, 54.359999999999985, 'X[575] <= 570.9\\ngini = 0.5\\nsamples = 2\\nvalue = [1, 1]'),\n",
       " Text(187.7714285714286, 38.82857142857142, 'gini = 0.0\\nsamples = 1\\nvalue = [1, 0]'),\n",
       " Text(194.85714285714286, 38.82857142857142, 'gini = 0.0\\nsamples = 1\\nvalue = [0, 1]'),\n",
       " Text(198.4, 54.359999999999985, 'gini = 0.0\\nsamples = 462\\nvalue = [462, 0]'),\n",
       " Text(194.85714285714286, 85.42285714285714, 'gini = 0.0\\nsamples = 1\\nvalue = [0, 1]'),\n",
       " Text(205.4857142857143, 100.9542857142857, 'X[49] <= 407.25\\ngini = 0.48\\nsamples = 10\\nvalue = [6, 4]'),\n",
       " Text(201.94285714285715, 85.42285714285714, 'gini = 0.0\\nsamples = 4\\nvalue = [0, 4]'),\n",
       " Text(209.02857142857144, 85.42285714285714, 'gini = 0.0\\nsamples = 6\\nvalue = [6, 0]'),\n",
       " Text(205.4857142857143, 116.48571428571428, 'gini = 0.0\\nsamples = 11\\nvalue = [0, 11]'),\n",
       " Text(99.5875, 178.61142857142858, 'gini = 0.0\\nsamples = 1546\\nvalue = [0, 1546]'),\n",
       " Text(295.33035714285717, 194.14285714285714, 'X[701] <= 0.5\\ngini = 0.342\\nsamples = 9716\\nvalue = [2125, 7591]'),\n",
       " Text(280.66071428571433, 178.61142857142858, 'X[292] <= 0.131\\ngini = 0.117\\nsamples = 7902\\nvalue = [492, 7410]'),\n",
       " Text(269.03571428571433, 163.07999999999998, 'X[489] <= 66.7\\ngini = 0.061\\nsamples = 7630\\nvalue = [242, 7388]'),\n",
       " Text(265.4928571428572, 147.54857142857142, 'X[678] <= 0.305\\ngini = 0.045\\nsamples = 7561\\nvalue = [173, 7388]'),\n",
       " Text(252.8714285714286, 132.01714285714286, 'X[637] <= 0.089\\ngini = 0.03\\nsamples = 7494\\nvalue = [113, 7381]'),\n",
       " Text(238.25714285714287, 116.48571428571428, 'X[306] <= 422.5\\ngini = 0.024\\nsamples = 7469\\nvalue = [92, 7377]'),\n",
       " Text(219.65714285714287, 100.9542857142857, 'X[646] <= 2.73\\ngini = 0.004\\nsamples = 6974\\nvalue = [14, 6960]'),\n",
       " Text(216.11428571428573, 85.42285714285714, 'X[291] <= -0.259\\ngini = 0.003\\nsamples = 6970\\nvalue = [10, 6960]'),\n",
       " Text(209.02857142857144, 69.89142857142858, 'X[225] <= 8.7\\ngini = 0.5\\nsamples = 12\\nvalue = [6, 6]'),\n",
       " Text(205.4857142857143, 54.359999999999985, 'gini = 0.0\\nsamples = 6\\nvalue = [6, 0]'),\n",
       " Text(212.57142857142858, 54.359999999999985, 'gini = 0.0\\nsamples = 6\\nvalue = [0, 6]'),\n",
       " Text(223.20000000000002, 69.89142857142858, 'X[648] <= -13.004\\ngini = 0.001\\nsamples = 6958\\nvalue = [4, 6954]'),\n",
       " Text(219.65714285714287, 54.359999999999985, 'gini = 0.0\\nsamples = 1\\nvalue = [1, 0]'),\n",
       " Text(226.74285714285716, 54.359999999999985, 'X[685] <= 1.21\\ngini = 0.001\\nsamples = 6957\\nvalue = [3, 6954]'),\n",
       " Text(223.20000000000002, 38.82857142857142, 'X[685] <= 0.985\\ngini = 0.001\\nsamples = 6956\\nvalue = [2, 6954]'),\n",
       " Text(219.65714285714287, 23.29714285714286, 'gini = 0.0\\nsamples = 6933\\nvalue = [0, 6933]'),\n",
       " Text(226.74285714285716, 23.29714285714286, 'X[171] <= 45.85\\ngini = 0.159\\nsamples = 23\\nvalue = [2, 21]'),\n",
       " Text(223.20000000000002, 7.765714285714267, 'gini = 0.0\\nsamples = 21\\nvalue = [0, 21]'),\n",
       " Text(230.2857142857143, 7.765714285714267, 'gini = 0.0\\nsamples = 2\\nvalue = [2, 0]'),\n",
       " Text(230.2857142857143, 38.82857142857142, 'gini = 0.0\\nsamples = 1\\nvalue = [1, 0]'),\n",
       " Text(223.20000000000002, 85.42285714285714, 'gini = 0.0\\nsamples = 4\\nvalue = [4, 0]'),\n",
       " Text(256.8571428571429, 100.9542857142857, 'X[440] <= 79.85\\ngini = 0.265\\nsamples = 495\\nvalue = [78, 417]'),\n",
       " Text(244.45714285714288, 85.42285714285714, 'X[635] <= 0.0\\ngini = 0.042\\nsamples = 415\\nvalue = [9, 406]'),\n",
       " Text(237.3714285714286, 69.89142857142858, 'X[318] <= 388.9\\ngini = 0.005\\nsamples = 406\\nvalue = [1, 405]'),\n",
       " Text(233.82857142857145, 54.359999999999985, 'gini = 0.0\\nsamples = 1\\nvalue = [1, 0]'),\n",
       " Text(240.91428571428574, 54.359999999999985, 'gini = 0.0\\nsamples = 405\\nvalue = [0, 405]'),\n",
       " Text(251.54285714285717, 69.89142857142858, 'X[396] <= 205.2\\ngini = 0.198\\nsamples = 9\\nvalue = [8, 1]'),\n",
       " Text(248.00000000000003, 54.359999999999985, 'gini = 0.0\\nsamples = 1\\nvalue = [0, 1]'),\n",
       " Text(255.08571428571432, 54.359999999999985, 'gini = 0.0\\nsamples = 8\\nvalue = [8, 0]'),\n",
       " Text(269.25714285714287, 85.42285714285714, 'X[240] <= 497.9\\ngini = 0.237\\nsamples = 80\\nvalue = [69, 11]'),\n",
       " Text(265.7142857142857, 69.89142857142858, 'X[221] <= -73.7\\ngini = 0.028\\nsamples = 70\\nvalue = [69, 1]'),\n",
       " Text(262.1714285714286, 54.359999999999985, 'gini = 0.0\\nsamples = 1\\nvalue = [0, 1]'),\n",
       " Text(269.25714285714287, 54.359999999999985, 'gini = 0.0\\nsamples = 69\\nvalue = [69, 0]'),\n",
       " Text(272.8, 69.89142857142858, 'gini = 0.0\\nsamples = 10\\nvalue = [0, 10]'),\n",
       " Text(267.4857142857143, 116.48571428571428, 'X[355] <= 543.6\\ngini = 0.269\\nsamples = 25\\nvalue = [21, 4]'),\n",
       " Text(263.9428571428572, 100.9542857142857, 'gini = 0.0\\nsamples = 21\\nvalue = [21, 0]'),\n",
       " Text(271.02857142857147, 100.9542857142857, 'gini = 0.0\\nsamples = 4\\nvalue = [0, 4]'),\n",
       " Text(278.11428571428576, 132.01714285714286, 'X[367] <= 344.9\\ngini = 0.187\\nsamples = 67\\nvalue = [60, 7]'),\n",
       " Text(274.5714285714286, 116.48571428571428, 'gini = 0.0\\nsamples = 60\\nvalue = [60, 0]'),\n",
       " Text(281.6571428571429, 116.48571428571428, 'gini = 0.0\\nsamples = 7\\nvalue = [0, 7]'),\n",
       " Text(272.5785714285715, 147.54857142857142, 'gini = 0.0\\nsamples = 69\\nvalue = [69, 0]'),\n",
       " Text(292.28571428571433, 163.07999999999998, 'X[313] <= 456.5\\ngini = 0.149\\nsamples = 272\\nvalue = [250, 22]'),\n",
       " Text(288.7428571428572, 147.54857142857142, 'X[87] <= 155.15\\ngini = 0.046\\nsamples = 256\\nvalue = [250, 6]'),\n",
       " Text(285.20000000000005, 132.01714285714286, 'gini = 0.0\\nsamples = 6\\nvalue = [0, 6]'),\n",
       " Text(292.28571428571433, 132.01714285714286, 'gini = 0.0\\nsamples = 250\\nvalue = [250, 0]'),\n",
       " Text(295.8285714285715, 147.54857142857142, 'gini = 0.0\\nsamples = 16\\nvalue = [0, 16]'),\n",
       " Text(310.0, 178.61142857142858, 'X[387] <= 107.0\\ngini = 0.18\\nsamples = 1814\\nvalue = [1633, 181]'),\n",
       " Text(306.45714285714286, 163.07999999999998, 'gini = 0.0\\nsamples = 75\\nvalue = [0, 75]'),\n",
       " Text(313.54285714285714, 163.07999999999998, 'X[662] <= -2.035\\ngini = 0.114\\nsamples = 1739\\nvalue = [1633, 106]'),\n",
       " Text(302.9142857142857, 147.54857142857142, 'X[306] <= 419.95\\ngini = 0.398\\nsamples = 95\\nvalue = [26, 69]'),\n",
       " Text(299.3714285714286, 132.01714285714286, 'gini = 0.0\\nsamples = 68\\nvalue = [0, 68]'),\n",
       " Text(306.45714285714286, 132.01714285714286, 'X[646] <= -3.145\\ngini = 0.071\\nsamples = 27\\nvalue = [26, 1]'),\n",
       " Text(302.9142857142857, 116.48571428571428, 'gini = 0.0\\nsamples = 26\\nvalue = [26, 0]'),\n",
       " Text(310.0, 116.48571428571428, 'gini = 0.0\\nsamples = 1\\nvalue = [0, 1]'),\n",
       " Text(324.1714285714286, 147.54857142857142, 'X[26] <= 507.75\\ngini = 0.044\\nsamples = 1644\\nvalue = [1607, 37]'),\n",
       " Text(320.62857142857143, 132.01714285714286, 'X[690] <= 2.01\\ngini = 0.015\\nsamples = 1619\\nvalue = [1607, 12]'),\n",
       " Text(317.0857142857143, 116.48571428571428, 'X[662] <= -1.769\\ngini = 0.012\\nsamples = 1617\\nvalue = [1607, 10]'),\n",
       " Text(310.0, 100.9542857142857, 'X[708] <= 0.5\\ngini = 0.32\\nsamples = 40\\nvalue = [32, 8]'),\n",
       " Text(306.45714285714286, 85.42285714285714, 'gini = 0.0\\nsamples = 32\\nvalue = [32, 0]'),\n",
       " Text(313.54285714285714, 85.42285714285714, 'gini = 0.0\\nsamples = 8\\nvalue = [0, 8]'),\n",
       " Text(324.1714285714286, 100.9542857142857, 'X[690] <= 1.345\\ngini = 0.003\\nsamples = 1577\\nvalue = [1575, 2]'),\n",
       " Text(320.62857142857143, 85.42285714285714, 'gini = 0.0\\nsamples = 1558\\nvalue = [1558, 0]'),\n",
       " Text(327.7142857142857, 85.42285714285714, 'X[236] <= 489.65\\ngini = 0.188\\nsamples = 19\\nvalue = [17, 2]'),\n",
       " Text(324.1714285714286, 69.89142857142858, 'gini = 0.0\\nsamples = 17\\nvalue = [17, 0]'),\n",
       " Text(331.25714285714287, 69.89142857142858, 'gini = 0.0\\nsamples = 2\\nvalue = [0, 2]'),\n",
       " Text(324.1714285714286, 116.48571428571428, 'gini = 0.0\\nsamples = 2\\nvalue = [0, 2]'),\n",
       " Text(327.7142857142857, 132.01714285714286, 'gini = 0.0\\nsamples = 25\\nvalue = [0, 25]')]"
      ]
     },
     "execution_count": 13,
     "metadata": {},
     "output_type": "execute_result"
    },
    {
     "data": {
      "image/png": "[encoded data removed]",
      "text/plain": [
       "<Figure size 432x288 with 1 Axes>"
      ]
     },
     "metadata": {
      "needs_background": "light"
     },
     "output_type": "display_data"
    }
   ],
   "source": [
    "tree.plot_tree(m1)"
   ]
  },
  {
   "cell_type": "code",
   "execution_count": 14,
   "id": "8ab36a27",
   "metadata": {},
   "outputs": [
    {
     "name": "stdout",
     "output_type": "stream",
     "text": [
      "Accuracy: 1.0\n"
     ]
    }
   ],
   "source": [
    "print(\"Accuracy:\",metrics.accuracy_score(y_pred, y_train))"
   ]
  }
 ],
 "metadata": {
  "kernelspec": {
   "display_name": "Python 3",
   "language": "python",
   "name": "python3"
  },
  "language_info": {
   "codemirror_mode": {
    "name": "ipython",
    "version": 3
   },
   "file_extension": ".py",
   "mimetype": "text/x-python",
   "name": "python",
   "nbconvert_exporter": "python",
   "pygments_lexer": "ipython3",
   "version": "3.8.5"
  }
 },
 "nbformat": 4,
 "nbformat_minor": 5
}
