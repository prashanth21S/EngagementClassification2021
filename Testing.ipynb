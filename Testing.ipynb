{
 "cells": [
  {
   "cell_type": "code",
   "execution_count": 1,
   "id": "1a8bd554",
   "metadata": {},
   "outputs": [],
   "source": [
    "import pandas as pd\n",
    "import numpy as np\n",
    "import matplotlib.pyplot as plt\n",
    "import joblib\n",
    "from sklearn.preprocessing import StandardScaler\n",
    "import glob\n",
    "import os\n",
    "import collections"
   ]
  },
  {
   "cell_type": "markdown",
   "id": "9c357d8e",
   "metadata": {},
   "source": [
    "# Comparing Testing Results"
   ]
  },
  {
   "cell_type": "markdown",
   "id": "913c57c8",
   "metadata": {},
   "source": [
    "### Logistic Regression"
   ]
  },
  {
   "cell_type": "code",
   "execution_count": 2,
   "id": "865f3d8b",
   "metadata": {},
   "outputs": [
    {
     "name": "stdout",
     "output_type": "stream",
     "text": [
      "(output008)testVideo.csv:\n",
      "Counter({'not-engaged': 7682, 'engaged': 6721})\n",
      "(output003)testVideo.csv:\n",
      "Counter({'engaged': 7225, 'not-engaged': 7178})\n",
      "(output006)testVideo.csv:\n",
      "Counter({'not-engaged': 8273, 'engaged': 6130})\n",
      "(output001)testVideo.csv:\n",
      "Counter({'not-engaged': 9786, 'engaged': 4617})\n",
      "(output004)testVideo.csv:\n",
      "Counter({'not-engaged': 7732, 'engaged': 6671})\n",
      "(output009)testVideo.csv:\n",
      "Counter({'not-engaged': 8782, 'engaged': 5621})\n",
      "(output007)testVideo.csv:\n",
      "Counter({'not-engaged': 7428, 'engaged': 6975})\n",
      "(output005)testVideo.csv:\n",
      "Counter({'not-engaged': 7974, 'engaged': 6429})\n",
      "(output002)testVideo.csv:\n",
      "Counter({'not-engaged': 7956, 'engaged': 6447})\n"
     ]
    }
   ],
   "source": [
    "path = r'./testingProcessed' # use your path\n",
    "all_files = glob.glob(path + \"/*.csv\")\n",
    "scaler = StandardScaler()\n",
    "\n",
    "for filename in all_files:\n",
    "    df = pd.read_csv(filename, index_col=None, header=0)\n",
    "    model = scaler.fit(df)\n",
    "    x_train = model.transform(df)\n",
    "    fileNameActual=filename.replace(\"./testingProcessed/\",\"\")\n",
    "    mj = joblib.load('model_joblib_logistic_regression')\n",
    "    y_pred = mj.predict(x_train)\n",
    "    elements_count = collections.Counter(y_pred)\n",
    "    # printing the element and the frequency\n",
    "    print(fileNameActual+\":\")\n",
    "    print(elements_count)"
   ]
  },
  {
   "cell_type": "markdown",
   "id": "a9bd8a25",
   "metadata": {},
   "source": [
    "### K- Nearest Neighbours"
   ]
  },
  {
   "cell_type": "code",
   "execution_count": 3,
   "id": "3c95c6b8",
   "metadata": {},
   "outputs": [
    {
     "name": "stdout",
     "output_type": "stream",
     "text": [
      "(output008)testVideo.csv:\n",
      "Counter({'not-engaged': 11714, 'engaged': 2689})\n",
      "(output003)testVideo.csv:\n",
      "Counter({'not-engaged': 14037, 'engaged': 366})\n",
      "(output006)testVideo.csv:\n",
      "Counter({'not-engaged': 11978, 'engaged': 2425})\n",
      "(output001)testVideo.csv:\n",
      "Counter({'not-engaged': 12559, 'engaged': 1844})\n",
      "(output004)testVideo.csv:\n",
      "Counter({'not-engaged': 11365, 'engaged': 3038})\n",
      "(output009)testVideo.csv:\n",
      "Counter({'not-engaged': 13338, 'engaged': 1065})\n",
      "(output007)testVideo.csv:\n",
      "Counter({'not-engaged': 12298, 'engaged': 2105})\n",
      "(output005)testVideo.csv:\n",
      "Counter({'not-engaged': 11995, 'engaged': 2408})\n",
      "(output002)testVideo.csv:\n",
      "Counter({'not-engaged': 12131, 'engaged': 2272})\n"
     ]
    }
   ],
   "source": [
    "path = r'./testingProcessed' # use your path\n",
    "all_files = glob.glob(path + \"/*.csv\")\n",
    "scaler = StandardScaler()\n",
    "\n",
    "for filename in all_files:\n",
    "    df = pd.read_csv(filename, index_col=None, header=0)\n",
    "    model = scaler.fit(df)\n",
    "    x_train = model.transform(df)\n",
    "    fileNameActual=filename.replace(\"./testingProcessed/\",\"\")\n",
    "    mj = joblib.load('model_joblib_knn')\n",
    "    y_pred = mj.predict(x_train)\n",
    "    elements_count = collections.Counter(y_pred)\n",
    "    # printing the element and the frequency\n",
    "    print(fileNameActual+\":\")\n",
    "    print(elements_count)"
   ]
  },
  {
   "cell_type": "markdown",
   "id": "89314273",
   "metadata": {},
   "source": [
    "### Decision Trees"
   ]
  },
  {
   "cell_type": "code",
   "execution_count": 4,
   "id": "0694e458",
   "metadata": {},
   "outputs": [
    {
     "name": "stdout",
     "output_type": "stream",
     "text": [
      "(output008)testVideo.csv:\n",
      "Counter({'engaged': 14391, 'not-engaged': 12})\n",
      "(output003)testVideo.csv:\n",
      "Counter({'engaged': 13666, 'not-engaged': 737})\n",
      "(output006)testVideo.csv:\n",
      "Counter({'engaged': 14391, 'not-engaged': 12})\n",
      "(output001)testVideo.csv:\n",
      "Counter({'not-engaged': 14342, 'engaged': 61})\n",
      "(output004)testVideo.csv:\n",
      "Counter({'engaged': 14391, 'not-engaged': 12})\n",
      "(output009)testVideo.csv:\n",
      "Counter({'engaged': 13028, 'not-engaged': 1375})\n",
      "(output007)testVideo.csv:\n",
      "Counter({'engaged': 14361, 'not-engaged': 42})\n",
      "(output005)testVideo.csv:\n",
      "Counter({'engaged': 14391, 'not-engaged': 12})\n",
      "(output002)testVideo.csv:\n",
      "Counter({'engaged': 14391, 'not-engaged': 12})\n"
     ]
    }
   ],
   "source": [
    "path = r'./testingProcessed' # use your path\n",
    "all_files = glob.glob(path + \"/*.csv\")\n",
    "\n",
    "for filename in all_files:\n",
    "    df = pd.read_csv(filename, index_col=None, header=0)\n",
    "    x_train=df\n",
    "    fileNameActual=filename.replace(\"./testingProcessed/\",\"\")\n",
    "    mj = joblib.load('model_joblib_decision_tree')\n",
    "    y_pred = mj.predict(x_train)\n",
    "    elements_count = collections.Counter(y_pred)\n",
    "    # printing the element and the frequency\n",
    "    print(fileNameActual+\":\")\n",
    "    print(elements_count)"
   ]
  },
  {
   "cell_type": "markdown",
   "id": "c201d7ad",
   "metadata": {},
   "source": [
    "### Random Forest"
   ]
  },
  {
   "cell_type": "code",
   "execution_count": 5,
   "id": "64d25706",
   "metadata": {},
   "outputs": [
    {
     "name": "stdout",
     "output_type": "stream",
     "text": [
      "(output008)testVideo.csv:\n",
      "Counter({'engaged': 14296, 'not-engaged': 107})\n",
      "(output003)testVideo.csv:\n",
      "Counter({'engaged': 14402, 'not-engaged': 1})\n",
      "(output006)testVideo.csv:\n",
      "Counter({'engaged': 13147, 'not-engaged': 1256})\n",
      "(output001)testVideo.csv:\n",
      "Counter({'engaged': 13557, 'not-engaged': 846})\n",
      "(output004)testVideo.csv:\n",
      "Counter({'engaged': 14403})\n",
      "(output009)testVideo.csv:\n",
      "Counter({'engaged': 14277, 'not-engaged': 126})\n",
      "(output007)testVideo.csv:\n",
      "Counter({'engaged': 14320, 'not-engaged': 83})\n",
      "(output005)testVideo.csv:\n",
      "Counter({'engaged': 14401, 'not-engaged': 2})\n",
      "(output002)testVideo.csv:\n",
      "Counter({'engaged': 8988, 'not-engaged': 5415})\n"
     ]
    }
   ],
   "source": [
    "path = r'./testingProcessed' # use your path\n",
    "all_files = glob.glob(path + \"/*.csv\")\n",
    "\n",
    "for filename in all_files:\n",
    "    df = pd.read_csv(filename, index_col=None, header=0)\n",
    "    x_train=df\n",
    "    fileNameActual=filename.replace(\"./testingProcessed/\",\"\")\n",
    "    mj = joblib.load('model_joblib_random_forest')\n",
    "    y_pred = mj.predict(x_train)\n",
    "    elements_count = collections.Counter(y_pred)\n",
    "    # printing the element and the frequency\n",
    "    print(fileNameActual+\":\")\n",
    "    print(elements_count)"
   ]
  },
  {
   "cell_type": "markdown",
   "id": "d724e841",
   "metadata": {},
   "source": [
    "### Support Vector Machines - Linear"
   ]
  },
  {
   "cell_type": "code",
   "execution_count": 6,
   "id": "7302a623",
   "metadata": {},
   "outputs": [
    {
     "name": "stdout",
     "output_type": "stream",
     "text": [
      "(output008)testVideo.csv:\n",
      "Counter({'not-engaged': 14403})\n",
      "(output003)testVideo.csv:\n",
      "Counter({'not-engaged': 14403})\n",
      "(output006)testVideo.csv:\n",
      "Counter({'not-engaged': 14403})\n",
      "(output001)testVideo.csv:\n",
      "Counter({'not-engaged': 14395, 'engaged': 8})\n",
      "(output004)testVideo.csv:\n",
      "Counter({'not-engaged': 14403})\n",
      "(output009)testVideo.csv:\n",
      "Counter({'not-engaged': 14403})\n",
      "(output007)testVideo.csv:\n",
      "Counter({'not-engaged': 14403})\n",
      "(output005)testVideo.csv:\n",
      "Counter({'not-engaged': 14403})\n",
      "(output002)testVideo.csv:\n",
      "Counter({'not-engaged': 14403})\n"
     ]
    }
   ],
   "source": [
    "path = r'./testingProcessed' # use your path\n",
    "all_files = glob.glob(path + \"/*.csv\")\n",
    "\n",
    "for filename in all_files:\n",
    "    df = pd.read_csv(filename, index_col=None, header=0)\n",
    "    x_train=df\n",
    "    fileNameActual=filename.replace(\"./testingProcessed/\",\"\")\n",
    "    mj = joblib.load('model_joblib_svm_linear')\n",
    "    y_pred = mj.predict(x_train)\n",
    "    elements_count = collections.Counter(y_pred)\n",
    "    # printing the element and the frequency\n",
    "    print(fileNameActual+\":\")\n",
    "    print(elements_count)"
   ]
  },
  {
   "cell_type": "markdown",
   "id": "51be57a7",
   "metadata": {},
   "source": [
    "### Support Vector Machines - Radial Basis"
   ]
  },
  {
   "cell_type": "code",
   "execution_count": 7,
   "id": "4e4607d5",
   "metadata": {},
   "outputs": [
    {
     "name": "stdout",
     "output_type": "stream",
     "text": [
      "(output008)testVideo.csv:\n",
      "Counter({'engaged': 14205, 'not-engaged': 198})\n",
      "(output003)testVideo.csv:\n",
      "Counter({'engaged': 14403})\n",
      "(output006)testVideo.csv:\n",
      "Counter({'engaged': 14358, 'not-engaged': 45})\n",
      "(output001)testVideo.csv:\n",
      "Counter({'engaged': 10360, 'not-engaged': 4043})\n",
      "(output004)testVideo.csv:\n",
      "Counter({'engaged': 14386, 'not-engaged': 17})\n",
      "(output009)testVideo.csv:\n",
      "Counter({'engaged': 14275, 'not-engaged': 128})\n",
      "(output007)testVideo.csv:\n",
      "Counter({'engaged': 14040, 'not-engaged': 363})\n",
      "(output005)testVideo.csv:\n",
      "Counter({'engaged': 14402, 'not-engaged': 1})\n",
      "(output002)testVideo.csv:\n",
      "Counter({'not-engaged': 10033, 'engaged': 4370})\n"
     ]
    }
   ],
   "source": [
    "path = r'./testingProcessed' # use your path\n",
    "all_files = glob.glob(path + \"/*.csv\")\n",
    "\n",
    "for filename in all_files:\n",
    "    df = pd.read_csv(filename, index_col=None, header=0)\n",
    "    x_train=df\n",
    "    fileNameActual=filename.replace(\"./testingProcessed/\",\"\")\n",
    "    mj = joblib.load('model_joblib_svm_rbf')\n",
    "    y_pred = mj.predict(x_train)\n",
    "    elements_count = collections.Counter(y_pred)\n",
    "    # printing the element and the frequency\n",
    "    print(fileNameActual+\":\")\n",
    "    print(elements_count)"
   ]
  },
  {
   "cell_type": "markdown",
   "id": "f898d29c",
   "metadata": {},
   "source": [
    "### Support Vector Machines - Polynomial"
   ]
  },
  {
   "cell_type": "code",
   "execution_count": 8,
   "id": "5b31da59",
   "metadata": {},
   "outputs": [
    {
     "name": "stdout",
     "output_type": "stream",
     "text": [
      "(output008)testVideo.csv:\n",
      "Counter({'not-engaged': 14391, 'engaged': 12})\n",
      "(output003)testVideo.csv:\n",
      "Counter({'not-engaged': 14391, 'engaged': 12})\n",
      "(output006)testVideo.csv:\n",
      "Counter({'not-engaged': 14391, 'engaged': 12})\n",
      "(output001)testVideo.csv:\n",
      "Counter({'not-engaged': 14391, 'engaged': 12})\n",
      "(output004)testVideo.csv:\n",
      "Counter({'not-engaged': 14391, 'engaged': 12})\n",
      "(output009)testVideo.csv:\n",
      "Counter({'not-engaged': 14391, 'engaged': 12})\n",
      "(output007)testVideo.csv:\n",
      "Counter({'not-engaged': 14391, 'engaged': 12})\n",
      "(output005)testVideo.csv:\n",
      "Counter({'not-engaged': 14391, 'engaged': 12})\n",
      "(output002)testVideo.csv:\n",
      "Counter({'not-engaged': 14391, 'engaged': 12})\n"
     ]
    }
   ],
   "source": [
    "path = r'./testingProcessed' # use your path\n",
    "all_files = glob.glob(path + \"/*.csv\")\n",
    "\n",
    "for filename in all_files:\n",
    "    df = pd.read_csv(filename, index_col=None, header=0)\n",
    "    x_train=df\n",
    "    fileNameActual=filename.replace(\"./testingProcessed/\",\"\")\n",
    "    mj = joblib.load('model_joblib_svm_poly')\n",
    "    y_pred = mj.predict(x_train)\n",
    "    elements_count = collections.Counter(y_pred)\n",
    "    # printing the element and the frequency\n",
    "    print(fileNameActual+\":\")\n",
    "    print(elements_count)"
   ]
  },
  {
   "cell_type": "markdown",
   "id": "ae1d1f30",
   "metadata": {},
   "source": [
    "### Gaussian Naive Bayes"
   ]
  },
  {
   "cell_type": "code",
   "execution_count": 9,
   "id": "93a8fccb",
   "metadata": {},
   "outputs": [
    {
     "name": "stdout",
     "output_type": "stream",
     "text": [
      "(output008)testVideo.csv:\n",
      "Counter({'not-engaged': 14403})\n",
      "(output003)testVideo.csv:\n",
      "Counter({'not-engaged': 14403})\n",
      "(output006)testVideo.csv:\n",
      "Counter({'not-engaged': 14403})\n",
      "(output001)testVideo.csv:\n",
      "Counter({'not-engaged': 14403})\n",
      "(output004)testVideo.csv:\n",
      "Counter({'not-engaged': 14403})\n",
      "(output009)testVideo.csv:\n",
      "Counter({'not-engaged': 14403})\n",
      "(output007)testVideo.csv:\n",
      "Counter({'not-engaged': 14403})\n",
      "(output005)testVideo.csv:\n",
      "Counter({'not-engaged': 14403})\n",
      "(output002)testVideo.csv:\n",
      "Counter({'not-engaged': 14403})\n"
     ]
    }
   ],
   "source": [
    "path = r'./testingProcessed' # use your path\n",
    "all_files = glob.glob(path + \"/*.csv\")\n",
    "\n",
    "for filename in all_files:\n",
    "    df = pd.read_csv(filename, index_col=None, header=0)\n",
    "    x_train=df\n",
    "    fileNameActual=filename.replace(\"./testingProcessed/\",\"\")\n",
    "    mj = joblib.load('model_joblib_gaussian_naive_bayes')\n",
    "    y_pred = mj.predict(x_train)\n",
    "    elements_count = collections.Counter(y_pred)\n",
    "    # printing the element and the frequency\n",
    "    print(fileNameActual+\":\")\n",
    "    print(elements_count)"
   ]
  }
 ],
 "metadata": {
  "kernelspec": {
   "display_name": "Python 3",
   "language": "python",
   "name": "python3"
  },
  "language_info": {
   "codemirror_mode": {
    "name": "ipython",
    "version": 3
   },
   "file_extension": ".py",
   "mimetype": "text/x-python",
   "name": "python",
   "nbconvert_exporter": "python",
   "pygments_lexer": "ipython3",
   "version": "3.8.5"
  }
 },
 "nbformat": 4,
 "nbformat_minor": 5
}
